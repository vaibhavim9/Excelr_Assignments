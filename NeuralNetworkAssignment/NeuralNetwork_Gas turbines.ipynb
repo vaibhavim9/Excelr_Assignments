{
 "cells": [
  {
   "cell_type": "markdown",
   "id": "f77df719",
   "metadata": {},
   "source": [
    "# Neural Network -Problem Statement"
   ]
  },
  {
   "cell_type": "markdown",
   "id": "7e025c37",
   "metadata": {},
   "source": [
    "The dataset contains 36733 instances of 11 sensor measures aggregated over one hour (by means of average or sum) from a gas turbine. \n",
    "The Dataset includes gas turbine parameters (such as Turbine Inlet Temperature and Compressor Discharge pressure) in addition to the ambient variables.\n",
    "\n",
    "\n",
    "Problem statement: predicting turbine energy yield (TEY) using ambient variables as features.\n"
   ]
  },
  {
   "cell_type": "code",
   "execution_count": 1,
   "id": "4ece562a",
   "metadata": {},
   "outputs": [],
   "source": [
    "import pandas as pd\n",
    "import matplotlib.pyplot as plt\n",
    "import seaborn as sns\n",
    "import numpy as np\n",
    "from sklearn.model_selection import train_test_split,GridSearchCV\n",
    "from sklearn.metrics import classification_report\n",
    "from sklearn import preprocessing\n",
    "from sklearn.preprocessing import StandardScaler\n",
    "import tensorflow as tf\n",
    "\n",
    "import warnings\n",
    "warnings.filterwarnings(\"ignore\")"
   ]
  },
  {
   "cell_type": "code",
   "execution_count": 2,
   "id": "22157f24",
   "metadata": {},
   "outputs": [],
   "source": [
    "gas_tur_df = pd.read_csv('gas_turbines.csv')"
   ]
  },
  {
   "cell_type": "code",
   "execution_count": 3,
   "id": "1e9d1ec2",
   "metadata": {},
   "outputs": [
    {
     "data": {
      "text/html": [
       "<div>\n",
       "<style scoped>\n",
       "    .dataframe tbody tr th:only-of-type {\n",
       "        vertical-align: middle;\n",
       "    }\n",
       "\n",
       "    .dataframe tbody tr th {\n",
       "        vertical-align: top;\n",
       "    }\n",
       "\n",
       "    .dataframe thead th {\n",
       "        text-align: right;\n",
       "    }\n",
       "</style>\n",
       "<table border=\"1\" class=\"dataframe\">\n",
       "  <thead>\n",
       "    <tr style=\"text-align: right;\">\n",
       "      <th></th>\n",
       "      <th>AT</th>\n",
       "      <th>AP</th>\n",
       "      <th>AH</th>\n",
       "      <th>AFDP</th>\n",
       "      <th>GTEP</th>\n",
       "      <th>TIT</th>\n",
       "      <th>TAT</th>\n",
       "      <th>TEY</th>\n",
       "      <th>CDP</th>\n",
       "      <th>CO</th>\n",
       "      <th>NOX</th>\n",
       "    </tr>\n",
       "  </thead>\n",
       "  <tbody>\n",
       "    <tr>\n",
       "      <th>0</th>\n",
       "      <td>6.8594</td>\n",
       "      <td>1007.9</td>\n",
       "      <td>96.799</td>\n",
       "      <td>3.5000</td>\n",
       "      <td>19.663</td>\n",
       "      <td>1059.2</td>\n",
       "      <td>550.00</td>\n",
       "      <td>114.70</td>\n",
       "      <td>10.605</td>\n",
       "      <td>3.1547</td>\n",
       "      <td>82.722</td>\n",
       "    </tr>\n",
       "    <tr>\n",
       "      <th>1</th>\n",
       "      <td>6.7850</td>\n",
       "      <td>1008.4</td>\n",
       "      <td>97.118</td>\n",
       "      <td>3.4998</td>\n",
       "      <td>19.728</td>\n",
       "      <td>1059.3</td>\n",
       "      <td>550.00</td>\n",
       "      <td>114.72</td>\n",
       "      <td>10.598</td>\n",
       "      <td>3.2363</td>\n",
       "      <td>82.776</td>\n",
       "    </tr>\n",
       "    <tr>\n",
       "      <th>2</th>\n",
       "      <td>6.8977</td>\n",
       "      <td>1008.8</td>\n",
       "      <td>95.939</td>\n",
       "      <td>3.4824</td>\n",
       "      <td>19.779</td>\n",
       "      <td>1059.4</td>\n",
       "      <td>549.87</td>\n",
       "      <td>114.71</td>\n",
       "      <td>10.601</td>\n",
       "      <td>3.2012</td>\n",
       "      <td>82.468</td>\n",
       "    </tr>\n",
       "    <tr>\n",
       "      <th>3</th>\n",
       "      <td>7.0569</td>\n",
       "      <td>1009.2</td>\n",
       "      <td>95.249</td>\n",
       "      <td>3.4805</td>\n",
       "      <td>19.792</td>\n",
       "      <td>1059.6</td>\n",
       "      <td>549.99</td>\n",
       "      <td>114.72</td>\n",
       "      <td>10.606</td>\n",
       "      <td>3.1923</td>\n",
       "      <td>82.670</td>\n",
       "    </tr>\n",
       "    <tr>\n",
       "      <th>4</th>\n",
       "      <td>7.3978</td>\n",
       "      <td>1009.7</td>\n",
       "      <td>95.150</td>\n",
       "      <td>3.4976</td>\n",
       "      <td>19.765</td>\n",
       "      <td>1059.7</td>\n",
       "      <td>549.98</td>\n",
       "      <td>114.72</td>\n",
       "      <td>10.612</td>\n",
       "      <td>3.2484</td>\n",
       "      <td>82.311</td>\n",
       "    </tr>\n",
       "    <tr>\n",
       "      <th>5</th>\n",
       "      <td>7.6998</td>\n",
       "      <td>1010.7</td>\n",
       "      <td>92.708</td>\n",
       "      <td>3.5236</td>\n",
       "      <td>19.683</td>\n",
       "      <td>1059.8</td>\n",
       "      <td>549.97</td>\n",
       "      <td>114.72</td>\n",
       "      <td>10.626</td>\n",
       "      <td>3.4467</td>\n",
       "      <td>82.409</td>\n",
       "    </tr>\n",
       "    <tr>\n",
       "      <th>6</th>\n",
       "      <td>7.7901</td>\n",
       "      <td>1011.6</td>\n",
       "      <td>91.983</td>\n",
       "      <td>3.5298</td>\n",
       "      <td>19.659</td>\n",
       "      <td>1060.0</td>\n",
       "      <td>549.87</td>\n",
       "      <td>114.71</td>\n",
       "      <td>10.644</td>\n",
       "      <td>3.4874</td>\n",
       "      <td>82.440</td>\n",
       "    </tr>\n",
       "    <tr>\n",
       "      <th>7</th>\n",
       "      <td>7.7139</td>\n",
       "      <td>1012.7</td>\n",
       "      <td>91.348</td>\n",
       "      <td>3.5088</td>\n",
       "      <td>19.673</td>\n",
       "      <td>1059.8</td>\n",
       "      <td>549.92</td>\n",
       "      <td>114.71</td>\n",
       "      <td>10.656</td>\n",
       "      <td>3.6043</td>\n",
       "      <td>83.010</td>\n",
       "    </tr>\n",
       "    <tr>\n",
       "      <th>8</th>\n",
       "      <td>7.7975</td>\n",
       "      <td>1013.8</td>\n",
       "      <td>90.196</td>\n",
       "      <td>3.5141</td>\n",
       "      <td>19.634</td>\n",
       "      <td>1060.1</td>\n",
       "      <td>550.09</td>\n",
       "      <td>114.72</td>\n",
       "      <td>10.644</td>\n",
       "      <td>3.3943</td>\n",
       "      <td>82.284</td>\n",
       "    </tr>\n",
       "    <tr>\n",
       "      <th>9</th>\n",
       "      <td>8.0820</td>\n",
       "      <td>1015.0</td>\n",
       "      <td>88.597</td>\n",
       "      <td>4.0612</td>\n",
       "      <td>23.406</td>\n",
       "      <td>1083.0</td>\n",
       "      <td>550.21</td>\n",
       "      <td>131.70</td>\n",
       "      <td>11.679</td>\n",
       "      <td>1.9081</td>\n",
       "      <td>82.782</td>\n",
       "    </tr>\n",
       "  </tbody>\n",
       "</table>\n",
       "</div>"
      ],
      "text/plain": [
       "       AT      AP      AH    AFDP    GTEP     TIT     TAT     TEY     CDP  \\\n",
       "0  6.8594  1007.9  96.799  3.5000  19.663  1059.2  550.00  114.70  10.605   \n",
       "1  6.7850  1008.4  97.118  3.4998  19.728  1059.3  550.00  114.72  10.598   \n",
       "2  6.8977  1008.8  95.939  3.4824  19.779  1059.4  549.87  114.71  10.601   \n",
       "3  7.0569  1009.2  95.249  3.4805  19.792  1059.6  549.99  114.72  10.606   \n",
       "4  7.3978  1009.7  95.150  3.4976  19.765  1059.7  549.98  114.72  10.612   \n",
       "5  7.6998  1010.7  92.708  3.5236  19.683  1059.8  549.97  114.72  10.626   \n",
       "6  7.7901  1011.6  91.983  3.5298  19.659  1060.0  549.87  114.71  10.644   \n",
       "7  7.7139  1012.7  91.348  3.5088  19.673  1059.8  549.92  114.71  10.656   \n",
       "8  7.7975  1013.8  90.196  3.5141  19.634  1060.1  550.09  114.72  10.644   \n",
       "9  8.0820  1015.0  88.597  4.0612  23.406  1083.0  550.21  131.70  11.679   \n",
       "\n",
       "       CO     NOX  \n",
       "0  3.1547  82.722  \n",
       "1  3.2363  82.776  \n",
       "2  3.2012  82.468  \n",
       "3  3.1923  82.670  \n",
       "4  3.2484  82.311  \n",
       "5  3.4467  82.409  \n",
       "6  3.4874  82.440  \n",
       "7  3.6043  83.010  \n",
       "8  3.3943  82.284  \n",
       "9  1.9081  82.782  "
      ]
     },
     "execution_count": 3,
     "metadata": {},
     "output_type": "execute_result"
    }
   ],
   "source": [
    "gas_tur_df.head(10)"
   ]
  },
  {
   "cell_type": "markdown",
   "id": "c2944e3c",
   "metadata": {},
   "source": [
    "# EDA"
   ]
  },
  {
   "cell_type": "code",
   "execution_count": 4,
   "id": "3a8db894",
   "metadata": {},
   "outputs": [
    {
     "name": "stdout",
     "output_type": "stream",
     "text": [
      "<class 'pandas.core.frame.DataFrame'>\n",
      "RangeIndex: 15039 entries, 0 to 15038\n",
      "Data columns (total 11 columns):\n",
      " #   Column  Non-Null Count  Dtype  \n",
      "---  ------  --------------  -----  \n",
      " 0   AT      15039 non-null  float64\n",
      " 1   AP      15039 non-null  float64\n",
      " 2   AH      15039 non-null  float64\n",
      " 3   AFDP    15039 non-null  float64\n",
      " 4   GTEP    15039 non-null  float64\n",
      " 5   TIT     15039 non-null  float64\n",
      " 6   TAT     15039 non-null  float64\n",
      " 7   TEY     15039 non-null  float64\n",
      " 8   CDP     15039 non-null  float64\n",
      " 9   CO      15039 non-null  float64\n",
      " 10  NOX     15039 non-null  float64\n",
      "dtypes: float64(11)\n",
      "memory usage: 1.3 MB\n"
     ]
    }
   ],
   "source": [
    "gas_tur_df.info()"
   ]
  },
  {
   "cell_type": "code",
   "execution_count": 5,
   "id": "c02eb8e8",
   "metadata": {},
   "outputs": [
    {
     "data": {
      "text/html": [
       "<div>\n",
       "<style scoped>\n",
       "    .dataframe tbody tr th:only-of-type {\n",
       "        vertical-align: middle;\n",
       "    }\n",
       "\n",
       "    .dataframe tbody tr th {\n",
       "        vertical-align: top;\n",
       "    }\n",
       "\n",
       "    .dataframe thead th {\n",
       "        text-align: right;\n",
       "    }\n",
       "</style>\n",
       "<table border=\"1\" class=\"dataframe\">\n",
       "  <thead>\n",
       "    <tr style=\"text-align: right;\">\n",
       "      <th></th>\n",
       "      <th>count</th>\n",
       "      <th>mean</th>\n",
       "      <th>std</th>\n",
       "      <th>min</th>\n",
       "      <th>25%</th>\n",
       "      <th>50%</th>\n",
       "      <th>75%</th>\n",
       "      <th>max</th>\n",
       "    </tr>\n",
       "  </thead>\n",
       "  <tbody>\n",
       "    <tr>\n",
       "      <th>AT</th>\n",
       "      <td>15039.0</td>\n",
       "      <td>17.764381</td>\n",
       "      <td>7.574323</td>\n",
       "      <td>0.522300</td>\n",
       "      <td>11.408000</td>\n",
       "      <td>18.1860</td>\n",
       "      <td>23.8625</td>\n",
       "      <td>34.9290</td>\n",
       "    </tr>\n",
       "    <tr>\n",
       "      <th>AP</th>\n",
       "      <td>15039.0</td>\n",
       "      <td>1013.199240</td>\n",
       "      <td>6.410760</td>\n",
       "      <td>985.850000</td>\n",
       "      <td>1008.900000</td>\n",
       "      <td>1012.8000</td>\n",
       "      <td>1016.9000</td>\n",
       "      <td>1034.2000</td>\n",
       "    </tr>\n",
       "    <tr>\n",
       "      <th>AH</th>\n",
       "      <td>15039.0</td>\n",
       "      <td>79.124174</td>\n",
       "      <td>13.793439</td>\n",
       "      <td>30.344000</td>\n",
       "      <td>69.750000</td>\n",
       "      <td>82.2660</td>\n",
       "      <td>90.0435</td>\n",
       "      <td>100.2000</td>\n",
       "    </tr>\n",
       "    <tr>\n",
       "      <th>AFDP</th>\n",
       "      <td>15039.0</td>\n",
       "      <td>4.200294</td>\n",
       "      <td>0.760197</td>\n",
       "      <td>2.087400</td>\n",
       "      <td>3.723900</td>\n",
       "      <td>4.1862</td>\n",
       "      <td>4.5509</td>\n",
       "      <td>7.6106</td>\n",
       "    </tr>\n",
       "    <tr>\n",
       "      <th>GTEP</th>\n",
       "      <td>15039.0</td>\n",
       "      <td>25.419061</td>\n",
       "      <td>4.173916</td>\n",
       "      <td>17.878000</td>\n",
       "      <td>23.294000</td>\n",
       "      <td>25.0820</td>\n",
       "      <td>27.1840</td>\n",
       "      <td>37.4020</td>\n",
       "    </tr>\n",
       "    <tr>\n",
       "      <th>TIT</th>\n",
       "      <td>15039.0</td>\n",
       "      <td>1083.798770</td>\n",
       "      <td>16.527806</td>\n",
       "      <td>1000.800000</td>\n",
       "      <td>1079.600000</td>\n",
       "      <td>1088.7000</td>\n",
       "      <td>1096.0000</td>\n",
       "      <td>1100.8000</td>\n",
       "    </tr>\n",
       "    <tr>\n",
       "      <th>TAT</th>\n",
       "      <td>15039.0</td>\n",
       "      <td>545.396183</td>\n",
       "      <td>7.866803</td>\n",
       "      <td>512.450000</td>\n",
       "      <td>542.170000</td>\n",
       "      <td>549.8900</td>\n",
       "      <td>550.0600</td>\n",
       "      <td>550.6100</td>\n",
       "    </tr>\n",
       "    <tr>\n",
       "      <th>TEY</th>\n",
       "      <td>15039.0</td>\n",
       "      <td>134.188464</td>\n",
       "      <td>15.829717</td>\n",
       "      <td>100.170000</td>\n",
       "      <td>127.985000</td>\n",
       "      <td>133.7800</td>\n",
       "      <td>140.8950</td>\n",
       "      <td>174.6100</td>\n",
       "    </tr>\n",
       "    <tr>\n",
       "      <th>CDP</th>\n",
       "      <td>15039.0</td>\n",
       "      <td>12.102353</td>\n",
       "      <td>1.103196</td>\n",
       "      <td>9.904400</td>\n",
       "      <td>11.622000</td>\n",
       "      <td>12.0250</td>\n",
       "      <td>12.5780</td>\n",
       "      <td>15.0810</td>\n",
       "    </tr>\n",
       "    <tr>\n",
       "      <th>CO</th>\n",
       "      <td>15039.0</td>\n",
       "      <td>1.972499</td>\n",
       "      <td>2.222206</td>\n",
       "      <td>0.000388</td>\n",
       "      <td>0.858055</td>\n",
       "      <td>1.3902</td>\n",
       "      <td>2.1604</td>\n",
       "      <td>44.1030</td>\n",
       "    </tr>\n",
       "    <tr>\n",
       "      <th>NOX</th>\n",
       "      <td>15039.0</td>\n",
       "      <td>68.190934</td>\n",
       "      <td>10.470586</td>\n",
       "      <td>27.765000</td>\n",
       "      <td>61.303500</td>\n",
       "      <td>66.6010</td>\n",
       "      <td>73.9355</td>\n",
       "      <td>119.8900</td>\n",
       "    </tr>\n",
       "  </tbody>\n",
       "</table>\n",
       "</div>"
      ],
      "text/plain": [
       "        count         mean        std          min          25%        50%  \\\n",
       "AT    15039.0    17.764381   7.574323     0.522300    11.408000    18.1860   \n",
       "AP    15039.0  1013.199240   6.410760   985.850000  1008.900000  1012.8000   \n",
       "AH    15039.0    79.124174  13.793439    30.344000    69.750000    82.2660   \n",
       "AFDP  15039.0     4.200294   0.760197     2.087400     3.723900     4.1862   \n",
       "GTEP  15039.0    25.419061   4.173916    17.878000    23.294000    25.0820   \n",
       "TIT   15039.0  1083.798770  16.527806  1000.800000  1079.600000  1088.7000   \n",
       "TAT   15039.0   545.396183   7.866803   512.450000   542.170000   549.8900   \n",
       "TEY   15039.0   134.188464  15.829717   100.170000   127.985000   133.7800   \n",
       "CDP   15039.0    12.102353   1.103196     9.904400    11.622000    12.0250   \n",
       "CO    15039.0     1.972499   2.222206     0.000388     0.858055     1.3902   \n",
       "NOX   15039.0    68.190934  10.470586    27.765000    61.303500    66.6010   \n",
       "\n",
       "            75%        max  \n",
       "AT      23.8625    34.9290  \n",
       "AP    1016.9000  1034.2000  \n",
       "AH      90.0435   100.2000  \n",
       "AFDP     4.5509     7.6106  \n",
       "GTEP    27.1840    37.4020  \n",
       "TIT   1096.0000  1100.8000  \n",
       "TAT    550.0600   550.6100  \n",
       "TEY    140.8950   174.6100  \n",
       "CDP     12.5780    15.0810  \n",
       "CO       2.1604    44.1030  \n",
       "NOX     73.9355   119.8900  "
      ]
     },
     "execution_count": 5,
     "metadata": {},
     "output_type": "execute_result"
    }
   ],
   "source": [
    "gas_tur_df.describe().T"
   ]
  },
  {
   "cell_type": "code",
   "execution_count": 6,
   "id": "e1a7ffa5",
   "metadata": {},
   "outputs": [
    {
     "data": {
      "text/plain": [
       "AT      0\n",
       "AP      0\n",
       "AH      0\n",
       "AFDP    0\n",
       "GTEP    0\n",
       "TIT     0\n",
       "TAT     0\n",
       "TEY     0\n",
       "CDP     0\n",
       "CO      0\n",
       "NOX     0\n",
       "dtype: int64"
      ]
     },
     "execution_count": 6,
     "metadata": {},
     "output_type": "execute_result"
    }
   ],
   "source": [
    "gas_tur_df.isna().sum()"
   ]
  },
  {
   "cell_type": "code",
   "execution_count": 7,
   "id": "c2efb035",
   "metadata": {},
   "outputs": [],
   "source": [
    "#No missing or null value found"
   ]
  },
  {
   "cell_type": "markdown",
   "id": "936d47f2",
   "metadata": {},
   "source": [
    "# Data Visualization "
   ]
  },
  {
   "cell_type": "code",
   "execution_count": 8,
   "id": "33a00df7",
   "metadata": {},
   "outputs": [
    {
     "data": {
      "text/plain": [
       "array([[<AxesSubplot:title={'center':'AT'}>,\n",
       "        <AxesSubplot:title={'center':'AP'}>,\n",
       "        <AxesSubplot:title={'center':'AH'}>],\n",
       "       [<AxesSubplot:title={'center':'AFDP'}>,\n",
       "        <AxesSubplot:title={'center':'GTEP'}>,\n",
       "        <AxesSubplot:title={'center':'TIT'}>],\n",
       "       [<AxesSubplot:title={'center':'TAT'}>,\n",
       "        <AxesSubplot:title={'center':'TEY'}>,\n",
       "        <AxesSubplot:title={'center':'CDP'}>],\n",
       "       [<AxesSubplot:title={'center':'CO'}>,\n",
       "        <AxesSubplot:title={'center':'NOX'}>, <AxesSubplot:>]],\n",
       "      dtype=object)"
      ]
     },
     "execution_count": 8,
     "metadata": {},
     "output_type": "execute_result"
    },
    {
     "data": {
      "image/png": "[encoded data removed]",
      "text/plain": [
       "<Figure size 1080x720 with 12 Axes>"
      ]
     },
     "metadata": {
      "needs_background": "light"
     },
     "output_type": "display_data"
    }
   ],
   "source": [
    "gas_tur_df.hist(bins=30, figsize=(15, 10))"
   ]
  },
  {
   "cell_type": "code",
   "execution_count": 9,
   "id": "42a146f3",
   "metadata": {},
   "outputs": [],
   "source": [
    "# Not all the features are normally distributed, We need to normalize the data before training a model"
   ]
  },
  {
   "cell_type": "code",
   "execution_count": 10,
   "id": "a87185af",
   "metadata": {},
   "outputs": [
    {
     "data": {
      "text/plain": [
       "<AxesSubplot:>"
      ]
     },
     "execution_count": 10,
     "metadata": {},
     "output_type": "execute_result"
    },
    {
     "data": {
      "image/png": "[encoded data removed]",
      "text/plain": [
       "<Figure size 720x1296 with 1 Axes>"
      ]
     },
     "metadata": {
      "needs_background": "light"
     },
     "output_type": "display_data"
    }
   ],
   "source": [
    "gas_tur_df.boxplot(figsize=(10, 18))"
   ]
  },
  {
   "cell_type": "markdown",
   "id": "6153fba9",
   "metadata": {},
   "source": [
    "For most features outliers are present .We need to use mean absolute error (MAE) to evaluate the model \n",
    "in modeling. The MAE is not sensitive to the outliers"
   ]
  },
  {
   "cell_type": "code",
   "execution_count": 11,
   "id": "02a65f91",
   "metadata": {},
   "outputs": [
    {
     "data": {
      "text/plain": [
       "<AxesSubplot:>"
      ]
     },
     "execution_count": 11,
     "metadata": {},
     "output_type": "execute_result"
    },
    {
     "data": {
      "image/png": "[encoded data removed]",
      "text/plain": [
       "<Figure size 1080x720 with 2 Axes>"
      ]
     },
     "metadata": {
      "needs_background": "light"
     },
     "output_type": "display_data"
    }
   ],
   "source": [
    "plt.figure(figsize=(15,10))\n",
    "sns.heatmap(gas_tur_df.corr(),annot=True)"
   ]
  },
  {
   "cell_type": "markdown",
   "id": "28669d4b",
   "metadata": {},
   "source": [
    "Most features are correlated with each other possitively as well as negatively like TEY is highly correlated with CDP,\n",
    " GTEP,TIT,AFDP and negativly correlated with TAT.\n",
    " TIT is positively correlated with CDP ,TIT,GTEP,AFDP and negatively correlatated with  CO"
   ]
  },
  {
   "cell_type": "markdown",
   "id": "8e1fe8e0",
   "metadata": {},
   "source": [
    "# Data Scaling"
   ]
  },
  {
   "cell_type": "code",
   "execution_count": 12,
   "id": "16c4db3b",
   "metadata": {},
   "outputs": [
    {
     "data": {
      "text/html": [
       "<div>\n",
       "<style scoped>\n",
       "    .dataframe tbody tr th:only-of-type {\n",
       "        vertical-align: middle;\n",
       "    }\n",
       "\n",
       "    .dataframe tbody tr th {\n",
       "        vertical-align: top;\n",
       "    }\n",
       "\n",
       "    .dataframe thead th {\n",
       "        text-align: right;\n",
       "    }\n",
       "</style>\n",
       "<table border=\"1\" class=\"dataframe\">\n",
       "  <thead>\n",
       "    <tr style=\"text-align: right;\">\n",
       "      <th></th>\n",
       "      <th>AT</th>\n",
       "      <th>AP</th>\n",
       "      <th>AH</th>\n",
       "      <th>AFDP</th>\n",
       "      <th>GTEP</th>\n",
       "      <th>TIT</th>\n",
       "      <th>TAT</th>\n",
       "      <th>CDP</th>\n",
       "      <th>CO</th>\n",
       "      <th>NOX</th>\n",
       "    </tr>\n",
       "  </thead>\n",
       "  <tbody>\n",
       "    <tr>\n",
       "      <th>0</th>\n",
       "      <td>6.8594</td>\n",
       "      <td>1007.9</td>\n",
       "      <td>96.799</td>\n",
       "      <td>3.5000</td>\n",
       "      <td>19.663</td>\n",
       "      <td>1059.2</td>\n",
       "      <td>550.00</td>\n",
       "      <td>10.605</td>\n",
       "      <td>3.1547</td>\n",
       "      <td>82.722</td>\n",
       "    </tr>\n",
       "    <tr>\n",
       "      <th>1</th>\n",
       "      <td>6.7850</td>\n",
       "      <td>1008.4</td>\n",
       "      <td>97.118</td>\n",
       "      <td>3.4998</td>\n",
       "      <td>19.728</td>\n",
       "      <td>1059.3</td>\n",
       "      <td>550.00</td>\n",
       "      <td>10.598</td>\n",
       "      <td>3.2363</td>\n",
       "      <td>82.776</td>\n",
       "    </tr>\n",
       "    <tr>\n",
       "      <th>2</th>\n",
       "      <td>6.8977</td>\n",
       "      <td>1008.8</td>\n",
       "      <td>95.939</td>\n",
       "      <td>3.4824</td>\n",
       "      <td>19.779</td>\n",
       "      <td>1059.4</td>\n",
       "      <td>549.87</td>\n",
       "      <td>10.601</td>\n",
       "      <td>3.2012</td>\n",
       "      <td>82.468</td>\n",
       "    </tr>\n",
       "    <tr>\n",
       "      <th>3</th>\n",
       "      <td>7.0569</td>\n",
       "      <td>1009.2</td>\n",
       "      <td>95.249</td>\n",
       "      <td>3.4805</td>\n",
       "      <td>19.792</td>\n",
       "      <td>1059.6</td>\n",
       "      <td>549.99</td>\n",
       "      <td>10.606</td>\n",
       "      <td>3.1923</td>\n",
       "      <td>82.670</td>\n",
       "    </tr>\n",
       "    <tr>\n",
       "      <th>4</th>\n",
       "      <td>7.3978</td>\n",
       "      <td>1009.7</td>\n",
       "      <td>95.150</td>\n",
       "      <td>3.4976</td>\n",
       "      <td>19.765</td>\n",
       "      <td>1059.7</td>\n",
       "      <td>549.98</td>\n",
       "      <td>10.612</td>\n",
       "      <td>3.2484</td>\n",
       "      <td>82.311</td>\n",
       "    </tr>\n",
       "    <tr>\n",
       "      <th>5</th>\n",
       "      <td>7.6998</td>\n",
       "      <td>1010.7</td>\n",
       "      <td>92.708</td>\n",
       "      <td>3.5236</td>\n",
       "      <td>19.683</td>\n",
       "      <td>1059.8</td>\n",
       "      <td>549.97</td>\n",
       "      <td>10.626</td>\n",
       "      <td>3.4467</td>\n",
       "      <td>82.409</td>\n",
       "    </tr>\n",
       "    <tr>\n",
       "      <th>6</th>\n",
       "      <td>7.7901</td>\n",
       "      <td>1011.6</td>\n",
       "      <td>91.983</td>\n",
       "      <td>3.5298</td>\n",
       "      <td>19.659</td>\n",
       "      <td>1060.0</td>\n",
       "      <td>549.87</td>\n",
       "      <td>10.644</td>\n",
       "      <td>3.4874</td>\n",
       "      <td>82.440</td>\n",
       "    </tr>\n",
       "    <tr>\n",
       "      <th>7</th>\n",
       "      <td>7.7139</td>\n",
       "      <td>1012.7</td>\n",
       "      <td>91.348</td>\n",
       "      <td>3.5088</td>\n",
       "      <td>19.673</td>\n",
       "      <td>1059.8</td>\n",
       "      <td>549.92</td>\n",
       "      <td>10.656</td>\n",
       "      <td>3.6043</td>\n",
       "      <td>83.010</td>\n",
       "    </tr>\n",
       "    <tr>\n",
       "      <th>8</th>\n",
       "      <td>7.7975</td>\n",
       "      <td>1013.8</td>\n",
       "      <td>90.196</td>\n",
       "      <td>3.5141</td>\n",
       "      <td>19.634</td>\n",
       "      <td>1060.1</td>\n",
       "      <td>550.09</td>\n",
       "      <td>10.644</td>\n",
       "      <td>3.3943</td>\n",
       "      <td>82.284</td>\n",
       "    </tr>\n",
       "    <tr>\n",
       "      <th>9</th>\n",
       "      <td>8.0820</td>\n",
       "      <td>1015.0</td>\n",
       "      <td>88.597</td>\n",
       "      <td>4.0612</td>\n",
       "      <td>23.406</td>\n",
       "      <td>1083.0</td>\n",
       "      <td>550.21</td>\n",
       "      <td>11.679</td>\n",
       "      <td>1.9081</td>\n",
       "      <td>82.782</td>\n",
       "    </tr>\n",
       "  </tbody>\n",
       "</table>\n",
       "</div>"
      ],
      "text/plain": [
       "       AT      AP      AH    AFDP    GTEP     TIT     TAT     CDP      CO  \\\n",
       "0  6.8594  1007.9  96.799  3.5000  19.663  1059.2  550.00  10.605  3.1547   \n",
       "1  6.7850  1008.4  97.118  3.4998  19.728  1059.3  550.00  10.598  3.2363   \n",
       "2  6.8977  1008.8  95.939  3.4824  19.779  1059.4  549.87  10.601  3.2012   \n",
       "3  7.0569  1009.2  95.249  3.4805  19.792  1059.6  549.99  10.606  3.1923   \n",
       "4  7.3978  1009.7  95.150  3.4976  19.765  1059.7  549.98  10.612  3.2484   \n",
       "5  7.6998  1010.7  92.708  3.5236  19.683  1059.8  549.97  10.626  3.4467   \n",
       "6  7.7901  1011.6  91.983  3.5298  19.659  1060.0  549.87  10.644  3.4874   \n",
       "7  7.7139  1012.7  91.348  3.5088  19.673  1059.8  549.92  10.656  3.6043   \n",
       "8  7.7975  1013.8  90.196  3.5141  19.634  1060.1  550.09  10.644  3.3943   \n",
       "9  8.0820  1015.0  88.597  4.0612  23.406  1083.0  550.21  11.679  1.9081   \n",
       "\n",
       "      NOX  \n",
       "0  82.722  \n",
       "1  82.776  \n",
       "2  82.468  \n",
       "3  82.670  \n",
       "4  82.311  \n",
       "5  82.409  \n",
       "6  82.440  \n",
       "7  83.010  \n",
       "8  82.284  \n",
       "9  82.782  "
      ]
     },
     "execution_count": 12,
     "metadata": {},
     "output_type": "execute_result"
    }
   ],
   "source": [
    "# Defining Independent and Dependent Variables\n",
    "x = gas_tur_df.loc[:,['AT', 'AP', 'AH', 'AFDP', 'GTEP', 'TIT', 'TAT', 'CDP', 'CO','NOX']]\n",
    "x.head(10)"
   ]
  },
  {
   "cell_type": "code",
   "execution_count": 13,
   "id": "f21e2691",
   "metadata": {},
   "outputs": [
    {
     "data": {
      "text/html": [
       "<div>\n",
       "<style scoped>\n",
       "    .dataframe tbody tr th:only-of-type {\n",
       "        vertical-align: middle;\n",
       "    }\n",
       "\n",
       "    .dataframe tbody tr th {\n",
       "        vertical-align: top;\n",
       "    }\n",
       "\n",
       "    .dataframe thead th {\n",
       "        text-align: right;\n",
       "    }\n",
       "</style>\n",
       "<table border=\"1\" class=\"dataframe\">\n",
       "  <thead>\n",
       "    <tr style=\"text-align: right;\">\n",
       "      <th></th>\n",
       "      <th>TEY</th>\n",
       "    </tr>\n",
       "  </thead>\n",
       "  <tbody>\n",
       "    <tr>\n",
       "      <th>0</th>\n",
       "      <td>114.70</td>\n",
       "    </tr>\n",
       "    <tr>\n",
       "      <th>1</th>\n",
       "      <td>114.72</td>\n",
       "    </tr>\n",
       "    <tr>\n",
       "      <th>2</th>\n",
       "      <td>114.71</td>\n",
       "    </tr>\n",
       "    <tr>\n",
       "      <th>3</th>\n",
       "      <td>114.72</td>\n",
       "    </tr>\n",
       "    <tr>\n",
       "      <th>4</th>\n",
       "      <td>114.72</td>\n",
       "    </tr>\n",
       "    <tr>\n",
       "      <th>5</th>\n",
       "      <td>114.72</td>\n",
       "    </tr>\n",
       "    <tr>\n",
       "      <th>6</th>\n",
       "      <td>114.71</td>\n",
       "    </tr>\n",
       "    <tr>\n",
       "      <th>7</th>\n",
       "      <td>114.71</td>\n",
       "    </tr>\n",
       "    <tr>\n",
       "      <th>8</th>\n",
       "      <td>114.72</td>\n",
       "    </tr>\n",
       "    <tr>\n",
       "      <th>9</th>\n",
       "      <td>131.70</td>\n",
       "    </tr>\n",
       "  </tbody>\n",
       "</table>\n",
       "</div>"
      ],
      "text/plain": [
       "      TEY\n",
       "0  114.70\n",
       "1  114.72\n",
       "2  114.71\n",
       "3  114.72\n",
       "4  114.72\n",
       "5  114.72\n",
       "6  114.71\n",
       "7  114.71\n",
       "8  114.72\n",
       "9  131.70"
      ]
     },
     "execution_count": 13,
     "metadata": {},
     "output_type": "execute_result"
    }
   ],
   "source": [
    "y= gas_tur_df.loc[:,['TEY']]\n",
    "y.head(10)"
   ]
  },
  {
   "cell_type": "code",
   "execution_count": 14,
   "id": "8590ed83",
   "metadata": {},
   "outputs": [],
   "source": [
    "scaler = StandardScaler()\n",
    "x_norm = scaler.fit_transform(x)\n",
    "\n"
   ]
  },
  {
   "cell_type": "code",
   "execution_count": 15,
   "id": "e46b89ff",
   "metadata": {},
   "outputs": [
    {
     "data": {
      "text/plain": [
       "array([[-1.4397781 , -0.82664395,  1.28143632, ..., -1.35733078,\n",
       "         0.53201195,  1.3878449 ],\n",
       "       [-1.44960109, -0.74864748,  1.30456402, ..., -1.36367619,\n",
       "         0.56873344,  1.39300237],\n",
       "       [-1.43472138, -0.68625031,  1.21908576, ..., -1.36095673,\n",
       "         0.5529378 ,  1.36358566],\n",
       "       ...,\n",
       "       [-1.38626659, -1.07623263,  1.47697056, ..., -1.46792219,\n",
       "         2.69592467,  2.17006209],\n",
       "       [-1.42042259, -0.99823616,  1.44159024, ..., -1.42259784,\n",
       "         1.9246834 ,  2.391165  ],\n",
       "       [-1.43073409, -0.93583899,  1.33465179, ..., -1.37727349,\n",
       "         1.35415028,  2.32153907]])"
      ]
     },
     "execution_count": 15,
     "metadata": {},
     "output_type": "execute_result"
    }
   ],
   "source": [
    "x_norm"
   ]
  },
  {
   "cell_type": "code",
   "execution_count": 16,
   "id": "a72ba276",
   "metadata": {},
   "outputs": [],
   "source": [
    "x_train, x_test, y_train, y_test = train_test_split(x_norm, y, test_size=0.3, random_state=30)"
   ]
  },
  {
   "cell_type": "code",
   "execution_count": 17,
   "id": "c9c5609d",
   "metadata": {},
   "outputs": [],
   "source": [
    "from keras.wrappers.scikit_learn import KerasRegressor\n",
    "from sklearn.model_selection import KFold\n",
    "from keras.layers import Dense\n",
    "from keras.optimizers import Adam\n",
    "from kerastuner.tuners import RandomSearch\n",
    "from keras.models import Sequential\n",
    "import tensorflow as tf\n",
    "from tensorflow import keras"
   ]
  },
  {
   "cell_type": "code",
   "execution_count": 18,
   "id": "38814e43",
   "metadata": {
    "scrolled": true
   },
   "outputs": [
    {
     "name": "stdout",
     "output_type": "stream",
     "text": [
      "Defaulting to user installation because normal site-packages is not writeable\n",
      "Requirement already satisfied: keras-tuner in c:\\users\\vaibhavi\\appdata\\roaming\\python\\python39\\site-packages (1.3.5)\n",
      "Requirement already satisfied: packaging in c:\\programdata\\anaconda3\\lib\\site-packages (from keras-tuner) (21.3)\n",
      "Requirement already satisfied: requests in c:\\programdata\\anaconda3\\lib\\site-packages (from keras-tuner) (2.27.1)\n",
      "Requirement already satisfied: kt-legacy in c:\\users\\vaibhavi\\appdata\\roaming\\python\\python39\\site-packages (from keras-tuner) (1.0.5)\n",
      "Requirement already satisfied: pyparsing!=3.0.5,>=2.0.2 in c:\\programdata\\anaconda3\\lib\\site-packages (from packaging->keras-tuner) (3.0.4)\n",
      "Requirement already satisfied: urllib3<1.27,>=1.21.1 in c:\\programdata\\anaconda3\\lib\\site-packages (from requests->keras-tuner) (1.26.9)\n",
      "Requirement already satisfied: idna<4,>=2.5 in c:\\programdata\\anaconda3\\lib\\site-packages (from requests->keras-tuner) (3.3)\n",
      "Requirement already satisfied: certifi>=2017.4.17 in c:\\programdata\\anaconda3\\lib\\site-packages (from requests->keras-tuner) (2021.10.8)\n",
      "Requirement already satisfied: charset-normalizer~=2.0.0 in c:\\programdata\\anaconda3\\lib\\site-packages (from requests->keras-tuner) (2.0.4)\n",
      "Note: you may need to restart the kernel to use updated packages.\n"
     ]
    }
   ],
   "source": [
    "pip install keras-tuner --upgrade\n"
   ]
  },
  {
   "cell_type": "code",
   "execution_count": 19,
   "id": "cadf2705",
   "metadata": {},
   "outputs": [],
   "source": [
    "def build_model(hp):\n",
    "    model =Sequential()\n",
    "    for i in range(hp.Int('num_layers', 2, 20)):\n",
    "        model.add(Dense(units=hp.Int('units_' + str(i),\n",
    "                                            min_value=32,\n",
    "                                            max_value=100,\n",
    "                                            step=32),\n",
    "                               activation='relu'))\n",
    "    model.add(keras.layers.Dense(1, activation='linear'))\n",
    "    model.compile(\n",
    "        optimizer=keras.optimizers.Adam(\n",
    "            hp.Choice('learning_rate', [1e-2, 1e-3, 1e-4])),\n",
    "        loss='mean_absolute_error',\n",
    "        metrics=['mean_absolute_error'])\n",
    "    return model\n"
   ]
  },
  {
   "cell_type": "code",
   "execution_count": 20,
   "id": "b9f5c691",
   "metadata": {},
   "outputs": [
    {
     "name": "stdout",
     "output_type": "stream",
     "text": [
      "INFO:tensorflow:Reloading Tuner from project\\untitled_project\\tuner0.json\n"
     ]
    }
   ],
   "source": [
    "tuner = RandomSearch(build_model,objective='val_mean_absolute_error',\n",
    "                     max_trials=5,executions_per_trial=3,directory='project')"
   ]
  },
  {
   "cell_type": "code",
   "execution_count": 21,
   "id": "b4ed2650",
   "metadata": {},
   "outputs": [
    {
     "name": "stdout",
     "output_type": "stream",
     "text": [
      "Search space summary\n",
      "Default search space size: 22\n",
      "num_layers (Int)\n",
      "{'default': None, 'conditions': [], 'min_value': 2, 'max_value': 20, 'step': 1, 'sampling': 'linear'}\n",
      "units_0 (Int)\n",
      "{'default': None, 'conditions': [], 'min_value': 32, 'max_value': 100, 'step': 32, 'sampling': 'linear'}\n",
      "units_1 (Int)\n",
      "{'default': None, 'conditions': [], 'min_value': 32, 'max_value': 100, 'step': 32, 'sampling': 'linear'}\n",
      "learning_rate (Choice)\n",
      "{'default': 0.01, 'conditions': [], 'values': [0.01, 0.001, 0.0001], 'ordered': True}\n",
      "units_2 (Int)\n",
      "{'default': None, 'conditions': [], 'min_value': 32, 'max_value': 100, 'step': 32, 'sampling': 'linear'}\n",
      "units_3 (Int)\n",
      "{'default': None, 'conditions': [], 'min_value': 32, 'max_value': 100, 'step': 32, 'sampling': 'linear'}\n",
      "units_4 (Int)\n",
      "{'default': None, 'conditions': [], 'min_value': 32, 'max_value': 100, 'step': 32, 'sampling': 'linear'}\n",
      "units_5 (Int)\n",
      "{'default': None, 'conditions': [], 'min_value': 32, 'max_value': 100, 'step': 32, 'sampling': 'linear'}\n",
      "units_6 (Int)\n",
      "{'default': None, 'conditions': [], 'min_value': 32, 'max_value': 100, 'step': 32, 'sampling': 'linear'}\n",
      "units_7 (Int)\n",
      "{'default': None, 'conditions': [], 'min_value': 32, 'max_value': 100, 'step': 32, 'sampling': 'linear'}\n",
      "units_8 (Int)\n",
      "{'default': None, 'conditions': [], 'min_value': 32, 'max_value': 100, 'step': 32, 'sampling': 'linear'}\n",
      "units_9 (Int)\n",
      "{'default': None, 'conditions': [], 'min_value': 32, 'max_value': 100, 'step': 32, 'sampling': 'linear'}\n",
      "units_10 (Int)\n",
      "{'default': None, 'conditions': [], 'min_value': 32, 'max_value': 100, 'step': 32, 'sampling': 'linear'}\n",
      "units_11 (Int)\n",
      "{'default': None, 'conditions': [], 'min_value': 32, 'max_value': 100, 'step': 32, 'sampling': 'linear'}\n",
      "units_12 (Int)\n",
      "{'default': None, 'conditions': [], 'min_value': 32, 'max_value': 100, 'step': 32, 'sampling': 'linear'}\n",
      "units_13 (Int)\n",
      "{'default': None, 'conditions': [], 'min_value': 32, 'max_value': 100, 'step': 32, 'sampling': 'linear'}\n",
      "units_14 (Int)\n",
      "{'default': None, 'conditions': [], 'min_value': 32, 'max_value': 100, 'step': 32, 'sampling': 'linear'}\n",
      "units_15 (Int)\n",
      "{'default': None, 'conditions': [], 'min_value': 32, 'max_value': 100, 'step': 32, 'sampling': 'linear'}\n",
      "units_16 (Int)\n",
      "{'default': None, 'conditions': [], 'min_value': 32, 'max_value': 100, 'step': 32, 'sampling': 'linear'}\n",
      "units_17 (Int)\n",
      "{'default': None, 'conditions': [], 'min_value': 32, 'max_value': 100, 'step': 32, 'sampling': 'linear'}\n",
      "units_18 (Int)\n",
      "{'default': None, 'conditions': [], 'min_value': 32, 'max_value': 100, 'step': 32, 'sampling': 'linear'}\n",
      "units_19 (Int)\n",
      "{'default': None, 'conditions': [], 'min_value': 32, 'max_value': 100, 'step': 32, 'sampling': 'linear'}\n"
     ]
    }
   ],
   "source": [
    "tuner.search_space_summary()"
   ]
  },
  {
   "cell_type": "code",
   "execution_count": 22,
   "id": "58c48d60",
   "metadata": {},
   "outputs": [
    {
     "name": "stdout",
     "output_type": "stream",
     "text": [
      "INFO:tensorflow:Oracle triggered exit\n"
     ]
    }
   ],
   "source": [
    "tuner.search(x_train, y_train,epochs=100,validation_data=(x_test, y_test))"
   ]
  },
  {
   "cell_type": "code",
   "execution_count": 23,
   "id": "3713abea",
   "metadata": {},
   "outputs": [
    {
     "name": "stdout",
     "output_type": "stream",
     "text": [
      "Results summary\n",
      "Results in project\\untitled_project\n",
      "Showing 10 best trials\n",
      "Objective(name=\"val_mean_absolute_error\", direction=\"min\")\n",
      "\n",
      "Trial 1 summary\n",
      "Hyperparameters:\n",
      "num_layers: 6\n",
      "units_0: 64\n",
      "units_1: 64\n",
      "learning_rate: 0.001\n",
      "units_2: 96\n",
      "units_3: 64\n",
      "units_4: 32\n",
      "units_5: 32\n",
      "units_6: 96\n",
      "units_7: 96\n",
      "units_8: 96\n",
      "units_9: 32\n",
      "units_10: 32\n",
      "units_11: 96\n",
      "units_12: 32\n",
      "units_13: 32\n",
      "units_14: 64\n",
      "units_15: 64\n",
      "Score: 0.3942568600177765\n",
      "\n",
      "Trial 2 summary\n",
      "Hyperparameters:\n",
      "num_layers: 18\n",
      "units_0: 64\n",
      "units_1: 96\n",
      "learning_rate: 0.0001\n",
      "units_2: 64\n",
      "units_3: 64\n",
      "units_4: 64\n",
      "units_5: 32\n",
      "units_6: 32\n",
      "units_7: 32\n",
      "units_8: 32\n",
      "units_9: 96\n",
      "units_10: 32\n",
      "units_11: 64\n",
      "units_12: 96\n",
      "units_13: 32\n",
      "units_14: 96\n",
      "units_15: 96\n",
      "units_16: 32\n",
      "units_17: 32\n",
      "Score: 0.45585860808690387\n",
      "\n",
      "Trial 0 summary\n",
      "Hyperparameters:\n",
      "num_layers: 16\n",
      "units_0: 32\n",
      "units_1: 96\n",
      "learning_rate: 0.0001\n",
      "units_2: 32\n",
      "units_3: 32\n",
      "units_4: 32\n",
      "units_5: 32\n",
      "units_6: 32\n",
      "units_7: 32\n",
      "units_8: 32\n",
      "units_9: 32\n",
      "units_10: 32\n",
      "units_11: 32\n",
      "units_12: 32\n",
      "units_13: 32\n",
      "units_14: 32\n",
      "units_15: 32\n",
      "Score: 0.4844699501991272\n",
      "\n",
      "Trial 4 summary\n",
      "Hyperparameters:\n",
      "num_layers: 20\n",
      "units_0: 64\n",
      "units_1: 32\n",
      "learning_rate: 0.01\n",
      "units_2: 96\n",
      "units_3: 32\n",
      "units_4: 96\n",
      "units_5: 64\n",
      "units_6: 32\n",
      "units_7: 64\n",
      "units_8: 32\n",
      "units_9: 64\n",
      "units_10: 96\n",
      "units_11: 32\n",
      "units_12: 96\n",
      "units_13: 64\n",
      "units_14: 64\n",
      "units_15: 96\n",
      "units_16: 32\n",
      "units_17: 32\n",
      "units_18: 32\n",
      "units_19: 32\n",
      "Score: 0.49331573645273846\n",
      "\n",
      "Trial 3 summary\n",
      "Hyperparameters:\n",
      "num_layers: 5\n",
      "units_0: 64\n",
      "units_1: 32\n",
      "learning_rate: 0.0001\n",
      "units_2: 96\n",
      "units_3: 64\n",
      "units_4: 96\n",
      "units_5: 96\n",
      "units_6: 96\n",
      "units_7: 64\n",
      "units_8: 96\n",
      "units_9: 64\n",
      "units_10: 64\n",
      "units_11: 64\n",
      "units_12: 64\n",
      "units_13: 64\n",
      "units_14: 32\n",
      "units_15: 96\n",
      "units_16: 96\n",
      "units_17: 32\n",
      "Score: 0.99435027440389\n"
     ]
    }
   ],
   "source": [
    "tuner.results_summary()"
   ]
  },
  {
   "cell_type": "code",
   "execution_count": 24,
   "id": "2d7e5d70",
   "metadata": {},
   "outputs": [],
   "source": [
    "def create_model():\n",
    "    model1 = Sequential()\n",
    "    model1.add(Dense(96,input_dim=10,activation='relu'))\n",
    "    model1.add(Dense(96,activation='relu'))\n",
    "    model1.add(Dense(64,activation=\"relu\"))\n",
    "    model1.add(Dense(64,activation=\"relu\"))\n",
    "    model1.add(Dense(64,activation=\"relu\"))\n",
    "    model1.add(Dense(32,activation=\"relu\"))      \n",
    "    model1.add(Dense(units=1,activation=\"linear\"))\n",
    "    \n",
    "    adam=Adam(learning_rate=0.001)\n",
    "    model1.compile(loss='mean_absolute_error',optimizer = adam,metrics=[\"mean_absolute_error\"])\n",
    "    return model1"
   ]
  },
  {
   "cell_type": "code",
   "execution_count": 25,
   "id": "d779eb31",
   "metadata": {},
   "outputs": [],
   "source": [
    "model1 =KerasRegressor(build_fn=create_model,verbose=0)\n",
    "batch_size=[10,20,40,50]\n",
    "epochs=[10,50,100,200]\n",
    "param_grid=dict(batch_size=batch_size,epochs=epochs)\n",
    "grid = GridSearchCV(estimator=model1,param_grid=param_grid,cv=KFold(),verbose=10)"
   ]
  },
  {
   "cell_type": "code",
   "execution_count": 26,
   "id": "73a6bdda",
   "metadata": {},
   "outputs": [
    {
     "data": {
      "text/plain": [
       "((4512, 10), (4512, 1))"
      ]
     },
     "execution_count": 26,
     "metadata": {},
     "output_type": "execute_result"
    }
   ],
   "source": [
    "x_test.shape,y_test.shape"
   ]
  },
  {
   "cell_type": "code",
   "execution_count": 27,
   "id": "6bbb8c90",
   "metadata": {},
   "outputs": [
    {
     "name": "stdout",
     "output_type": "stream",
     "text": [
      "Fitting 5 folds for each of 16 candidates, totalling 80 fits\n",
      "[CV 1/5; 1/16] START batch_size=10, epochs=10...................................\n",
      "[CV 1/5; 1/16] END ...batch_size=10, epochs=10;, score=-3.360 total time=   6.7s\n",
      "[CV 2/5; 1/16] START batch_size=10, epochs=10...................................\n",
      "[CV 2/5; 1/16] END ...batch_size=10, epochs=10;, score=-2.993 total time=   6.3s\n",
      "[CV 3/5; 1/16] START batch_size=10, epochs=10...................................\n",
      "[CV 3/5; 1/16] END ...batch_size=10, epochs=10;, score=-2.006 total time=   6.1s\n",
      "[CV 4/5; 1/16] START batch_size=10, epochs=10...................................\n",
      "[CV 4/5; 1/16] END ...batch_size=10, epochs=10;, score=-1.561 total time=   6.2s\n",
      "[CV 5/5; 1/16] START batch_size=10, epochs=10...................................\n",
      "[CV 5/5; 1/16] END ...batch_size=10, epochs=10;, score=-2.336 total time=   6.1s\n",
      "[CV 1/5; 2/16] START batch_size=10, epochs=50...................................\n",
      "[CV 1/5; 2/16] END ...batch_size=10, epochs=50;, score=-0.993 total time=  27.9s\n",
      "[CV 2/5; 2/16] START batch_size=10, epochs=50...................................\n",
      "[CV 2/5; 2/16] END ...batch_size=10, epochs=50;, score=-2.073 total time=  26.2s\n",
      "[CV 3/5; 2/16] START batch_size=10, epochs=50...................................\n",
      "[CV 3/5; 2/16] END ...batch_size=10, epochs=50;, score=-1.637 total time=  25.5s\n",
      "[CV 4/5; 2/16] START batch_size=10, epochs=50...................................\n",
      "[CV 4/5; 2/16] END ...batch_size=10, epochs=50;, score=-0.761 total time=  26.2s\n",
      "[CV 5/5; 2/16] START batch_size=10, epochs=50...................................\n",
      "[CV 5/5; 2/16] END ...batch_size=10, epochs=50;, score=-1.228 total time=  26.0s\n",
      "[CV 1/5; 3/16] START batch_size=10, epochs=100..................................\n",
      "[CV 1/5; 3/16] END ..batch_size=10, epochs=100;, score=-0.666 total time=  51.5s\n",
      "[CV 2/5; 3/16] START batch_size=10, epochs=100..................................\n",
      "[CV 2/5; 3/16] END ..batch_size=10, epochs=100;, score=-1.704 total time=  52.4s\n",
      "[CV 3/5; 3/16] START batch_size=10, epochs=100..................................\n",
      "[CV 3/5; 3/16] END ..batch_size=10, epochs=100;, score=-1.223 total time=  50.0s\n",
      "[CV 4/5; 3/16] START batch_size=10, epochs=100..................................\n",
      "[CV 4/5; 3/16] END ..batch_size=10, epochs=100;, score=-0.552 total time=  52.3s\n",
      "[CV 5/5; 3/16] START batch_size=10, epochs=100..................................\n",
      "[CV 5/5; 3/16] END ..batch_size=10, epochs=100;, score=-0.886 total time=  54.6s\n",
      "[CV 1/5; 4/16] START batch_size=10, epochs=200..................................\n",
      "[CV 1/5; 4/16] END ..batch_size=10, epochs=200;, score=-0.528 total time= 2.2min\n",
      "[CV 2/5; 4/16] START batch_size=10, epochs=200..................................\n",
      "[CV 2/5; 4/16] END ..batch_size=10, epochs=200;, score=-0.958 total time= 2.2min\n",
      "[CV 3/5; 4/16] START batch_size=10, epochs=200..................................\n",
      "[CV 3/5; 4/16] END ..batch_size=10, epochs=200;, score=-1.067 total time= 2.3min\n",
      "[CV 4/5; 4/16] START batch_size=10, epochs=200..................................\n",
      "[CV 4/5; 4/16] END ..batch_size=10, epochs=200;, score=-1.025 total time= 2.3min\n",
      "[CV 5/5; 4/16] START batch_size=10, epochs=200..................................\n",
      "[CV 5/5; 4/16] END ..batch_size=10, epochs=200;, score=-0.461 total time= 2.2min\n",
      "[CV 1/5; 5/16] START batch_size=20, epochs=10...................................\n",
      "[CV 1/5; 5/16] END ...batch_size=20, epochs=10;, score=-1.818 total time=   5.1s\n",
      "[CV 2/5; 5/16] START batch_size=20, epochs=10...................................\n",
      "[CV 2/5; 5/16] END ...batch_size=20, epochs=10;, score=-2.007 total time=   5.3s\n",
      "[CV 3/5; 5/16] START batch_size=20, epochs=10...................................\n",
      "[CV 3/5; 5/16] END ...batch_size=20, epochs=10;, score=-2.302 total time=   4.9s\n",
      "[CV 4/5; 5/16] START batch_size=20, epochs=10...................................\n",
      "[CV 4/5; 5/16] END ...batch_size=20, epochs=10;, score=-2.456 total time=   4.5s\n",
      "[CV 5/5; 5/16] START batch_size=20, epochs=10...................................\n",
      "[CV 5/5; 5/16] END ...batch_size=20, epochs=10;, score=-2.679 total time=   4.0s\n",
      "[CV 1/5; 6/16] START batch_size=20, epochs=50...................................\n",
      "[CV 1/5; 6/16] END ...batch_size=20, epochs=50;, score=-0.715 total time=  15.0s\n",
      "[CV 2/5; 6/16] START batch_size=20, epochs=50...................................\n",
      "[CV 2/5; 6/16] END ...batch_size=20, epochs=50;, score=-3.236 total time=  16.2s\n",
      "[CV 3/5; 6/16] START batch_size=20, epochs=50...................................\n",
      "[CV 3/5; 6/16] END ...batch_size=20, epochs=50;, score=-1.113 total time=  15.7s\n",
      "[CV 4/5; 6/16] START batch_size=20, epochs=50...................................\n",
      "[CV 4/5; 6/16] END ...batch_size=20, epochs=50;, score=-0.724 total time=  16.2s\n",
      "[CV 5/5; 6/16] START batch_size=20, epochs=50...................................\n",
      "[CV 5/5; 6/16] END ...batch_size=20, epochs=50;, score=-1.758 total time=  22.6s\n",
      "[CV 1/5; 7/16] START batch_size=20, epochs=100..................................\n",
      "[CV 1/5; 7/16] END ..batch_size=20, epochs=100;, score=-0.509 total time=  28.7s\n",
      "[CV 2/5; 7/16] START batch_size=20, epochs=100..................................\n",
      "[CV 2/5; 7/16] END ..batch_size=20, epochs=100;, score=-0.739 total time=  28.5s\n",
      "[CV 3/5; 7/16] START batch_size=20, epochs=100..................................\n",
      "[CV 3/5; 7/16] END ..batch_size=20, epochs=100;, score=-1.105 total time=  33.7s\n",
      "[CV 4/5; 7/16] START batch_size=20, epochs=100..................................\n",
      "[CV 4/5; 7/16] END ..batch_size=20, epochs=100;, score=-1.227 total time=  37.2s\n",
      "[CV 5/5; 7/16] START batch_size=20, epochs=100..................................\n",
      "[CV 5/5; 7/16] END ..batch_size=20, epochs=100;, score=-1.266 total time=  29.3s\n",
      "[CV 1/5; 8/16] START batch_size=20, epochs=200..................................\n",
      "[CV 1/5; 8/16] END ..batch_size=20, epochs=200;, score=-0.729 total time= 1.1min\n",
      "[CV 2/5; 8/16] START batch_size=20, epochs=200..................................\n",
      "[CV 2/5; 8/16] END ..batch_size=20, epochs=200;, score=-0.469 total time= 1.1min\n",
      "[CV 3/5; 8/16] START batch_size=20, epochs=200..................................\n",
      "[CV 3/5; 8/16] END ..batch_size=20, epochs=200;, score=-0.649 total time=  59.4s\n",
      "[CV 4/5; 8/16] START batch_size=20, epochs=200..................................\n",
      "[CV 4/5; 8/16] END ..batch_size=20, epochs=200;, score=-0.536 total time= 1.4min\n",
      "[CV 5/5; 8/16] START batch_size=20, epochs=200..................................\n",
      "[CV 5/5; 8/16] END ..batch_size=20, epochs=200;, score=-0.668 total time= 1.5min\n",
      "[CV 1/5; 9/16] START batch_size=40, epochs=10...................................\n",
      "[CV 1/5; 9/16] END ...batch_size=40, epochs=10;, score=-2.792 total time=   5.2s\n",
      "[CV 2/5; 9/16] START batch_size=40, epochs=10...................................\n",
      "[CV 2/5; 9/16] END ...batch_size=40, epochs=10;, score=-3.090 total time=   8.3s\n",
      "[CV 3/5; 9/16] START batch_size=40, epochs=10...................................\n",
      "[CV 3/5; 9/16] END ...batch_size=40, epochs=10;, score=-3.357 total time=   5.4s\n",
      "[CV 4/5; 9/16] START batch_size=40, epochs=10...................................\n",
      "[CV 4/5; 9/16] END ...batch_size=40, epochs=10;, score=-2.640 total time=   7.0s\n",
      "[CV 5/5; 9/16] START batch_size=40, epochs=10...................................\n",
      "[CV 5/5; 9/16] END ...batch_size=40, epochs=10;, score=-3.399 total time=   7.5s\n",
      "[CV 1/5; 10/16] START batch_size=40, epochs=50..................................\n",
      "[CV 1/5; 10/16] END ..batch_size=40, epochs=50;, score=-0.982 total time=  16.1s\n",
      "[CV 2/5; 10/16] START batch_size=40, epochs=50..................................\n",
      "[CV 2/5; 10/16] END ..batch_size=40, epochs=50;, score=-1.149 total time=   9.5s\n",
      "[CV 3/5; 10/16] START batch_size=40, epochs=50..................................\n",
      "[CV 3/5; 10/16] END ..batch_size=40, epochs=50;, score=-1.252 total time=   8.4s\n",
      "[CV 4/5; 10/16] START batch_size=40, epochs=50..................................\n",
      "[CV 4/5; 10/16] END ..batch_size=40, epochs=50;, score=-1.379 total time=  11.4s\n",
      "[CV 5/5; 10/16] START batch_size=40, epochs=50..................................\n",
      "[CV 5/5; 10/16] END ..batch_size=40, epochs=50;, score=-0.922 total time=   8.4s\n",
      "[CV 1/5; 11/16] START batch_size=40, epochs=100.................................\n"
     ]
    },
    {
     "name": "stdout",
     "output_type": "stream",
     "text": [
      "[CV 1/5; 11/16] END .batch_size=40, epochs=100;, score=-0.694 total time=  19.7s\n",
      "[CV 2/5; 11/16] START batch_size=40, epochs=100.................................\n",
      "[CV 2/5; 11/16] END .batch_size=40, epochs=100;, score=-0.961 total time=  29.2s\n",
      "[CV 3/5; 11/16] START batch_size=40, epochs=100.................................\n",
      "[CV 3/5; 11/16] END .batch_size=40, epochs=100;, score=-0.835 total time=  18.2s\n",
      "[CV 4/5; 11/16] START batch_size=40, epochs=100.................................\n",
      "[CV 4/5; 11/16] END .batch_size=40, epochs=100;, score=-0.821 total time=  17.0s\n",
      "[CV 5/5; 11/16] START batch_size=40, epochs=100.................................\n",
      "[CV 5/5; 11/16] END .batch_size=40, epochs=100;, score=-0.877 total time=  15.7s\n",
      "[CV 1/5; 12/16] START batch_size=40, epochs=200.................................\n",
      "[CV 1/5; 12/16] END .batch_size=40, epochs=200;, score=-0.520 total time=  36.2s\n",
      "[CV 2/5; 12/16] START batch_size=40, epochs=200.................................\n",
      "[CV 2/5; 12/16] END .batch_size=40, epochs=200;, score=-0.609 total time=  36.5s\n",
      "[CV 3/5; 12/16] START batch_size=40, epochs=200.................................\n",
      "[CV 3/5; 12/16] END .batch_size=40, epochs=200;, score=-0.642 total time=  31.1s\n",
      "[CV 4/5; 12/16] START batch_size=40, epochs=200.................................\n",
      "[CV 4/5; 12/16] END .batch_size=40, epochs=200;, score=-0.815 total time=  29.8s\n",
      "[CV 5/5; 12/16] START batch_size=40, epochs=200.................................\n",
      "[CV 5/5; 12/16] END .batch_size=40, epochs=200;, score=-0.490 total time=  37.4s\n",
      "[CV 1/5; 13/16] START batch_size=50, epochs=10..................................\n",
      "[CV 1/5; 13/16] END ..batch_size=50, epochs=10;, score=-3.546 total time=   4.7s\n",
      "[CV 2/5; 13/16] START batch_size=50, epochs=10..................................\n",
      "[CV 2/5; 13/16] END ..batch_size=50, epochs=10;, score=-2.987 total time=   3.3s\n",
      "[CV 3/5; 13/16] START batch_size=50, epochs=10..................................\n",
      "[CV 3/5; 13/16] END ..batch_size=50, epochs=10;, score=-2.935 total time=   2.9s\n",
      "[CV 4/5; 13/16] START batch_size=50, epochs=10..................................\n",
      "[CV 4/5; 13/16] END ..batch_size=50, epochs=10;, score=-2.863 total time=   2.4s\n",
      "[CV 5/5; 13/16] START batch_size=50, epochs=10..................................\n",
      "[CV 5/5; 13/16] END ..batch_size=50, epochs=10;, score=-2.766 total time=   2.2s\n",
      "[CV 1/5; 14/16] START batch_size=50, epochs=50..................................\n",
      "[CV 1/5; 14/16] END ..batch_size=50, epochs=50;, score=-1.384 total time=   6.7s\n",
      "[CV 2/5; 14/16] START batch_size=50, epochs=50..................................\n",
      "[CV 2/5; 14/16] END ..batch_size=50, epochs=50;, score=-0.830 total time=  21.7s\n",
      "[CV 3/5; 14/16] START batch_size=50, epochs=50..................................\n",
      "[CV 3/5; 14/16] END ..batch_size=50, epochs=50;, score=-1.244 total time=   6.7s\n",
      "[CV 4/5; 14/16] START batch_size=50, epochs=50..................................\n",
      "[CV 4/5; 14/16] END ..batch_size=50, epochs=50;, score=-1.843 total time=   7.3s\n",
      "[CV 5/5; 14/16] START batch_size=50, epochs=50..................................\n",
      "[CV 5/5; 14/16] END ..batch_size=50, epochs=50;, score=-1.254 total time=  13.3s\n",
      "[CV 1/5; 15/16] START batch_size=50, epochs=100.................................\n",
      "[CV 1/5; 15/16] END .batch_size=50, epochs=100;, score=-0.999 total time=  13.0s\n",
      "[CV 2/5; 15/16] START batch_size=50, epochs=100.................................\n",
      "[CV 2/5; 15/16] END .batch_size=50, epochs=100;, score=-0.774 total time=  16.9s\n",
      "[CV 3/5; 15/16] START batch_size=50, epochs=100.................................\n",
      "[CV 3/5; 15/16] END .batch_size=50, epochs=100;, score=-1.020 total time=  12.6s\n",
      "[CV 4/5; 15/16] START batch_size=50, epochs=100.................................\n",
      "[CV 4/5; 15/16] END .batch_size=50, epochs=100;, score=-1.309 total time=  20.9s\n",
      "[CV 5/5; 15/16] START batch_size=50, epochs=100.................................\n",
      "[CV 5/5; 15/16] END .batch_size=50, epochs=100;, score=-0.694 total time=  13.1s\n",
      "[CV 1/5; 16/16] START batch_size=50, epochs=200.................................\n",
      "[CV 1/5; 16/16] END .batch_size=50, epochs=200;, score=-1.549 total time=  30.3s\n",
      "[CV 2/5; 16/16] START batch_size=50, epochs=200.................................\n",
      "[CV 2/5; 16/16] END .batch_size=50, epochs=200;, score=-0.518 total time=  30.2s\n",
      "[CV 3/5; 16/16] START batch_size=50, epochs=200.................................\n",
      "[CV 3/5; 16/16] END .batch_size=50, epochs=200;, score=-0.997 total time=  25.8s\n",
      "[CV 4/5; 16/16] START batch_size=50, epochs=200.................................\n",
      "[CV 4/5; 16/16] END .batch_size=50, epochs=200;, score=-1.301 total time=  23.6s\n",
      "[CV 5/5; 16/16] START batch_size=50, epochs=200.................................\n",
      "[CV 5/5; 16/16] END .batch_size=50, epochs=200;, score=-0.573 total time=  25.0s\n"
     ]
    }
   ],
   "source": [
    "grid_result = grid.fit(x_test,y_test)\n"
   ]
  },
  {
   "cell_type": "code",
   "execution_count": 28,
   "id": "90335bae",
   "metadata": {},
   "outputs": [
    {
     "name": "stdout",
     "output_type": "stream",
     "text": [
      "Best : -0.6103006362915039, using {'batch_size': 20, 'epochs': 200}\n",
      "-2.4511401891708373,0.6513771477511082 with: {'batch_size': 10, 'epochs': 10}\n",
      "-1.3381933093070983,0.4677137228250734 with: {'batch_size': 10, 'epochs': 50}\n",
      "-1.0061941146850586,0.4170008469917777 with: {'batch_size': 10, 'epochs': 100}\n",
      "-0.8077394664287567,0.25909249288959724 with: {'batch_size': 10, 'epochs': 200}\n",
      "-2.252234935760498,0.3082622016383843 with: {'batch_size': 20, 'epochs': 10}\n",
      "-1.5091490507125855,0.9431840127142691 with: {'batch_size': 20, 'epochs': 50}\n",
      "-0.9693213105201721,0.2960888780294594 with: {'batch_size': 20, 'epochs': 100}\n",
      "-0.6103006362915039,0.09391930486302813 with: {'batch_size': 20, 'epochs': 200}\n",
      "-3.0555817127227782,0.3007403127397626 with: {'batch_size': 40, 'epochs': 10}\n",
      "-1.136705708503723,0.1686504561803675 with: {'batch_size': 40, 'epochs': 50}\n",
      "-0.8373983860015869,0.08686493108315069 with: {'batch_size': 40, 'epochs': 100}\n",
      "-0.615260910987854,0.11452938859212376 with: {'batch_size': 40, 'epochs': 200}\n",
      "-3.0192787647247314,0.2734098206027415 with: {'batch_size': 50, 'epochs': 10}\n",
      "-1.310958480834961,0.32464912110121585 with: {'batch_size': 50, 'epochs': 50}\n",
      "-0.959086012840271,0.2157298863872425 with: {'batch_size': 50, 'epochs': 100}\n",
      "-0.9876390695571899,0.40138108261368327 with: {'batch_size': 50, 'epochs': 200}\n"
     ]
    }
   ],
   "source": [
    "# Summarize the results\n",
    "print('Best : {}, using {}'.format(grid_result.best_score_,grid_result.best_params_))\n",
    "means = grid_result.cv_results_['mean_test_score']\n",
    "stds = grid_result.cv_results_['std_test_score']\n",
    "params = grid_result.cv_results_['params']\n",
    "for mean, stdev, param in zip(means, stds, params):\n",
    "  print('{},{} with: {}'.format(mean, stdev, param))"
   ]
  },
  {
   "cell_type": "code",
   "execution_count": 29,
   "id": "7fb2a7b4",
   "metadata": {},
   "outputs": [],
   "source": [
    "def baseline_model():\n",
    "    model_final = Sequential()\n",
    "    model_final.add(Dense(96,input_dim=10,activation='relu'))\n",
    "    model_final.add(Dense(96,activation='relu'))\n",
    "    model_final.add(Dense(64,activation=\"relu\"))\n",
    "    model_final.add(Dense(64,activation=\"relu\"))\n",
    "    model_final.add(Dense(64,activation=\"relu\"))\n",
    "    model_final.add(Dense(32,activation=\"relu\"))      \n",
    "    model_final.add(Dense(units=1,activation=\"linear\"))\n",
    "\n",
    "    adam=Adam(learning_rate=0.001)\n",
    "    model_final.compile(loss='mean_absolute_error',optimizer = adam,metrics=[\"mean_absolute_error\"])\n",
    "    return model_final"
   ]
  },
  {
   "cell_type": "code",
   "execution_count": 30,
   "id": "40ff5789",
   "metadata": {},
   "outputs": [],
   "source": [
    "from sklearn.model_selection import cross_val_score"
   ]
  },
  {
   "cell_type": "code",
   "execution_count": 31,
   "id": "6fae328b",
   "metadata": {},
   "outputs": [
    {
     "name": "stdout",
     "output_type": "stream",
     "text": [
      "Results: -7.81 (1.60) MSE\n"
     ]
    }
   ],
   "source": [
    "estimator = KerasRegressor(build_fn=baseline_model, nb_epoch=200, batch_size=10, verbose=False)\n",
    "kfold = KFold(n_splits=10)\n",
    "results = cross_val_score(estimator,x_test, y_test, cv=kfold)\n",
    "print(\"Results: %.2f (%.2f) MSE\" % (results.mean(), results.std()))"
   ]
  },
  {
   "cell_type": "code",
   "execution_count": 32,
   "id": "6cd29a3a",
   "metadata": {},
   "outputs": [],
   "source": [
    "estimator.fit(x_train, y_train)\n",
    "prediction = estimator.predict(x_test)"
   ]
  },
  {
   "cell_type": "code",
   "execution_count": 33,
   "id": "4e4f4156",
   "metadata": {},
   "outputs": [
    {
     "data": {
      "text/plain": [
       "array([134.23903, 108.97675, 130.87932, ..., 131.44208, 123.9493 ,\n",
       "       169.46455], dtype=float32)"
      ]
     },
     "execution_count": 33,
     "metadata": {},
     "output_type": "execute_result"
    }
   ],
   "source": [
    "prediction"
   ]
  },
  {
   "cell_type": "code",
   "execution_count": null,
   "id": "b8a49a4d",
   "metadata": {},
   "outputs": [],
   "source": []
  },
  {
   "cell_type": "code",
   "execution_count": null,
   "id": "4ab01bb0",
   "metadata": {},
   "outputs": [],
   "source": []
  },
  {
   "cell_type": "code",
   "execution_count": null,
   "id": "560ea1c5",
   "metadata": {},
   "outputs": [],
   "source": []
  },
  {
   "cell_type": "code",
   "execution_count": null,
   "id": "2980abe4",
   "metadata": {},
   "outputs": [],
   "source": []
  },
  {
   "cell_type": "code",
   "execution_count": null,
   "id": "7633650b",
   "metadata": {},
   "outputs": [],
   "source": []
  },
  {
   "cell_type": "code",
   "execution_count": null,
   "id": "ee8c83df",
   "metadata": {},
   "outputs": [],
   "source": []
  },
  {
   "cell_type": "code",
   "execution_count": null,
   "id": "68b81c9b",
   "metadata": {},
   "outputs": [],
   "source": []
  },
  {
   "cell_type": "code",
   "execution_count": null,
   "id": "b02a3467",
   "metadata": {},
   "outputs": [],
   "source": []
  },
  {
   "cell_type": "code",
   "execution_count": null,
   "id": "c5f7709e",
   "metadata": {},
   "outputs": [],
   "source": []
  },
  {
   "cell_type": "code",
   "execution_count": null,
   "id": "3b72a0df",
   "metadata": {},
   "outputs": [],
   "source": []
  }
 ],
 "metadata": {
  "kernelspec": {
   "display_name": "Python 3 (ipykernel)",
   "language": "python",
   "name": "python3"
  },
  "language_info": {
   "codemirror_mode": {
    "name": "ipython",
    "version": 3
   },
   "file_extension": ".py",
   "mimetype": "text/x-python",
   "name": "python",
   "nbconvert_exporter": "python",
   "pygments_lexer": "ipython3",
   "version": "3.9.12"
  }
 },
 "nbformat": 4,
 "nbformat_minor": 5
}
