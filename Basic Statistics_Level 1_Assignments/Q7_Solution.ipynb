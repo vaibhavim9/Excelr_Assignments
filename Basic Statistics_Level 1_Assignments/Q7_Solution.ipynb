{
 "cells": [
  {
   "cell_type": "code",
   "execution_count": 1,
   "id": "aecf1e93",
   "metadata": {},
   "outputs": [],
   "source": [
    "import pandas as pd\n",
    "import numpy as np\n",
    "import matplotlib.pyplot as plt\n",
    "import seaborn as sns"
   ]
  },
  {
   "cell_type": "code",
   "execution_count": 2,
   "id": "41d9d654",
   "metadata": {},
   "outputs": [],
   "source": [
    "df = pd.read_csv('Q7.csv')\n"
   ]
  },
  {
   "cell_type": "code",
   "execution_count": 3,
   "id": "b4819ab7",
   "metadata": {},
   "outputs": [
    {
     "data": {
      "text/html": [
       "<div>\n",
       "<style scoped>\n",
       "    .dataframe tbody tr th:only-of-type {\n",
       "        vertical-align: middle;\n",
       "    }\n",
       "\n",
       "    .dataframe tbody tr th {\n",
       "        vertical-align: top;\n",
       "    }\n",
       "\n",
       "    .dataframe thead th {\n",
       "        text-align: right;\n",
       "    }\n",
       "</style>\n",
       "<table border=\"1\" class=\"dataframe\">\n",
       "  <thead>\n",
       "    <tr style=\"text-align: right;\">\n",
       "      <th></th>\n",
       "      <th>Unnamed: 0</th>\n",
       "      <th>Points</th>\n",
       "      <th>Score</th>\n",
       "      <th>Weigh</th>\n",
       "    </tr>\n",
       "  </thead>\n",
       "  <tbody>\n",
       "    <tr>\n",
       "      <th>0</th>\n",
       "      <td>Mazda RX4</td>\n",
       "      <td>3.00</td>\n",
       "      <td>2.620</td>\n",
       "      <td>16.46</td>\n",
       "    </tr>\n",
       "    <tr>\n",
       "      <th>1</th>\n",
       "      <td>Mazda RX4 Wag</td>\n",
       "      <td>3.90</td>\n",
       "      <td>2.875</td>\n",
       "      <td>17.02</td>\n",
       "    </tr>\n",
       "    <tr>\n",
       "      <th>2</th>\n",
       "      <td>Datsun 710</td>\n",
       "      <td>3.85</td>\n",
       "      <td>2.320</td>\n",
       "      <td>18.61</td>\n",
       "    </tr>\n",
       "    <tr>\n",
       "      <th>3</th>\n",
       "      <td>Hornet 4 Drive</td>\n",
       "      <td>3.08</td>\n",
       "      <td>3.215</td>\n",
       "      <td>19.44</td>\n",
       "    </tr>\n",
       "    <tr>\n",
       "      <th>4</th>\n",
       "      <td>Hornet Sportabout</td>\n",
       "      <td>3.15</td>\n",
       "      <td>3.440</td>\n",
       "      <td>17.02</td>\n",
       "    </tr>\n",
       "    <tr>\n",
       "      <th>5</th>\n",
       "      <td>Valiant</td>\n",
       "      <td>2.76</td>\n",
       "      <td>3.460</td>\n",
       "      <td>20.22</td>\n",
       "    </tr>\n",
       "    <tr>\n",
       "      <th>6</th>\n",
       "      <td>Duster 360</td>\n",
       "      <td>3.21</td>\n",
       "      <td>3.570</td>\n",
       "      <td>15.84</td>\n",
       "    </tr>\n",
       "    <tr>\n",
       "      <th>7</th>\n",
       "      <td>Merc 240D</td>\n",
       "      <td>3.69</td>\n",
       "      <td>3.190</td>\n",
       "      <td>20.00</td>\n",
       "    </tr>\n",
       "    <tr>\n",
       "      <th>8</th>\n",
       "      <td>Merc 230</td>\n",
       "      <td>3.92</td>\n",
       "      <td>3.150</td>\n",
       "      <td>22.90</td>\n",
       "    </tr>\n",
       "    <tr>\n",
       "      <th>9</th>\n",
       "      <td>Merc 280</td>\n",
       "      <td>3.92</td>\n",
       "      <td>3.440</td>\n",
       "      <td>18.30</td>\n",
       "    </tr>\n",
       "    <tr>\n",
       "      <th>10</th>\n",
       "      <td>Merc 280C</td>\n",
       "      <td>3.92</td>\n",
       "      <td>3.440</td>\n",
       "      <td>18.90</td>\n",
       "    </tr>\n",
       "    <tr>\n",
       "      <th>11</th>\n",
       "      <td>Merc 450SE</td>\n",
       "      <td>3.07</td>\n",
       "      <td>4.070</td>\n",
       "      <td>17.40</td>\n",
       "    </tr>\n",
       "    <tr>\n",
       "      <th>12</th>\n",
       "      <td>Merc 450SL</td>\n",
       "      <td>3.07</td>\n",
       "      <td>3.730</td>\n",
       "      <td>17.60</td>\n",
       "    </tr>\n",
       "    <tr>\n",
       "      <th>13</th>\n",
       "      <td>Merc 450SLC</td>\n",
       "      <td>3.07</td>\n",
       "      <td>3.780</td>\n",
       "      <td>18.00</td>\n",
       "    </tr>\n",
       "    <tr>\n",
       "      <th>14</th>\n",
       "      <td>Cadillac Fleetwood</td>\n",
       "      <td>2.93</td>\n",
       "      <td>5.250</td>\n",
       "      <td>17.98</td>\n",
       "    </tr>\n",
       "    <tr>\n",
       "      <th>15</th>\n",
       "      <td>Lincoln Continental</td>\n",
       "      <td>3.00</td>\n",
       "      <td>5.424</td>\n",
       "      <td>17.82</td>\n",
       "    </tr>\n",
       "    <tr>\n",
       "      <th>16</th>\n",
       "      <td>Chrysler Imperial</td>\n",
       "      <td>3.23</td>\n",
       "      <td>5.345</td>\n",
       "      <td>17.42</td>\n",
       "    </tr>\n",
       "    <tr>\n",
       "      <th>17</th>\n",
       "      <td>Fiat 128</td>\n",
       "      <td>4.08</td>\n",
       "      <td>2.200</td>\n",
       "      <td>19.47</td>\n",
       "    </tr>\n",
       "    <tr>\n",
       "      <th>18</th>\n",
       "      <td>Honda Civic</td>\n",
       "      <td>4.93</td>\n",
       "      <td>1.615</td>\n",
       "      <td>18.52</td>\n",
       "    </tr>\n",
       "    <tr>\n",
       "      <th>19</th>\n",
       "      <td>Toyota Corolla</td>\n",
       "      <td>4.22</td>\n",
       "      <td>1.835</td>\n",
       "      <td>19.90</td>\n",
       "    </tr>\n",
       "    <tr>\n",
       "      <th>20</th>\n",
       "      <td>Toyota Corona</td>\n",
       "      <td>3.70</td>\n",
       "      <td>2.465</td>\n",
       "      <td>20.01</td>\n",
       "    </tr>\n",
       "    <tr>\n",
       "      <th>21</th>\n",
       "      <td>Dodge Challenger</td>\n",
       "      <td>2.76</td>\n",
       "      <td>3.520</td>\n",
       "      <td>16.87</td>\n",
       "    </tr>\n",
       "    <tr>\n",
       "      <th>22</th>\n",
       "      <td>AMC Javelin</td>\n",
       "      <td>3.15</td>\n",
       "      <td>3.435</td>\n",
       "      <td>17.30</td>\n",
       "    </tr>\n",
       "    <tr>\n",
       "      <th>23</th>\n",
       "      <td>Camaro Z28</td>\n",
       "      <td>3.73</td>\n",
       "      <td>3.840</td>\n",
       "      <td>15.41</td>\n",
       "    </tr>\n",
       "    <tr>\n",
       "      <th>24</th>\n",
       "      <td>Pontiac Firebird</td>\n",
       "      <td>3.08</td>\n",
       "      <td>3.845</td>\n",
       "      <td>17.05</td>\n",
       "    </tr>\n",
       "    <tr>\n",
       "      <th>25</th>\n",
       "      <td>Fiat X1-9</td>\n",
       "      <td>4.08</td>\n",
       "      <td>1.935</td>\n",
       "      <td>18.90</td>\n",
       "    </tr>\n",
       "    <tr>\n",
       "      <th>26</th>\n",
       "      <td>Porsche 914-2</td>\n",
       "      <td>4.43</td>\n",
       "      <td>2.140</td>\n",
       "      <td>16.70</td>\n",
       "    </tr>\n",
       "    <tr>\n",
       "      <th>27</th>\n",
       "      <td>Lotus Europa</td>\n",
       "      <td>3.77</td>\n",
       "      <td>1.513</td>\n",
       "      <td>16.90</td>\n",
       "    </tr>\n",
       "    <tr>\n",
       "      <th>28</th>\n",
       "      <td>Ford Pantera L</td>\n",
       "      <td>4.22</td>\n",
       "      <td>3.170</td>\n",
       "      <td>14.50</td>\n",
       "    </tr>\n",
       "    <tr>\n",
       "      <th>29</th>\n",
       "      <td>Ferrari Dino</td>\n",
       "      <td>3.62</td>\n",
       "      <td>2.770</td>\n",
       "      <td>15.50</td>\n",
       "    </tr>\n",
       "    <tr>\n",
       "      <th>30</th>\n",
       "      <td>Maserati Bora</td>\n",
       "      <td>3.54</td>\n",
       "      <td>3.570</td>\n",
       "      <td>14.60</td>\n",
       "    </tr>\n",
       "    <tr>\n",
       "      <th>31</th>\n",
       "      <td>Volvo 142E</td>\n",
       "      <td>4.11</td>\n",
       "      <td>2.780</td>\n",
       "      <td>18.60</td>\n",
       "    </tr>\n",
       "  </tbody>\n",
       "</table>\n",
       "</div>"
      ],
      "text/plain": [
       "             Unnamed: 0  Points  Score  Weigh\n",
       "0             Mazda RX4    3.00  2.620  16.46\n",
       "1         Mazda RX4 Wag    3.90  2.875  17.02\n",
       "2            Datsun 710    3.85  2.320  18.61\n",
       "3        Hornet 4 Drive    3.08  3.215  19.44\n",
       "4     Hornet Sportabout    3.15  3.440  17.02\n",
       "5               Valiant    2.76  3.460  20.22\n",
       "6            Duster 360    3.21  3.570  15.84\n",
       "7             Merc 240D    3.69  3.190  20.00\n",
       "8              Merc 230    3.92  3.150  22.90\n",
       "9              Merc 280    3.92  3.440  18.30\n",
       "10            Merc 280C    3.92  3.440  18.90\n",
       "11           Merc 450SE    3.07  4.070  17.40\n",
       "12           Merc 450SL    3.07  3.730  17.60\n",
       "13          Merc 450SLC    3.07  3.780  18.00\n",
       "14   Cadillac Fleetwood    2.93  5.250  17.98\n",
       "15  Lincoln Continental    3.00  5.424  17.82\n",
       "16    Chrysler Imperial    3.23  5.345  17.42\n",
       "17             Fiat 128    4.08  2.200  19.47\n",
       "18          Honda Civic    4.93  1.615  18.52\n",
       "19       Toyota Corolla    4.22  1.835  19.90\n",
       "20        Toyota Corona    3.70  2.465  20.01\n",
       "21     Dodge Challenger    2.76  3.520  16.87\n",
       "22          AMC Javelin    3.15  3.435  17.30\n",
       "23           Camaro Z28    3.73  3.840  15.41\n",
       "24     Pontiac Firebird    3.08  3.845  17.05\n",
       "25            Fiat X1-9    4.08  1.935  18.90\n",
       "26        Porsche 914-2    4.43  2.140  16.70\n",
       "27         Lotus Europa    3.77  1.513  16.90\n",
       "28       Ford Pantera L    4.22  3.170  14.50\n",
       "29         Ferrari Dino    3.62  2.770  15.50\n",
       "30        Maserati Bora    3.54  3.570  14.60\n",
       "31           Volvo 142E    4.11  2.780  18.60"
      ]
     },
     "execution_count": 3,
     "metadata": {},
     "output_type": "execute_result"
    }
   ],
   "source": [
    "df"
   ]
  },
  {
   "cell_type": "markdown",
   "id": "ed04b9de",
   "metadata": {},
   "source": [
    "# Calculation for Points"
   ]
  },
  {
   "cell_type": "code",
   "execution_count": 4,
   "id": "fce79fef",
   "metadata": {},
   "outputs": [
    {
     "name": "stdout",
     "output_type": "stream",
     "text": [
      "Mean of Points : 3.5684375000000004\n"
     ]
    }
   ],
   "source": [
    "mean_of_points =df['Points'].mean()\n",
    "print('Mean of Points :',mean_of_points)"
   ]
  },
  {
   "cell_type": "code",
   "execution_count": 5,
   "id": "bcc2b208",
   "metadata": {},
   "outputs": [
    {
     "name": "stdout",
     "output_type": "stream",
     "text": [
      "Median of Points 3.6550000000000002\n"
     ]
    }
   ],
   "source": [
    "median_of_points = df['Points'].median()\n",
    "print('Median of Points',median_of_points)"
   ]
  },
  {
   "cell_type": "code",
   "execution_count": 6,
   "id": "4f7b4781",
   "metadata": {},
   "outputs": [
    {
     "name": "stdout",
     "output_type": "stream",
     "text": [
      "Mode of Points 0    3.07\n",
      "1    3.92\n",
      "Name: Points, dtype: float64\n"
     ]
    }
   ],
   "source": [
    "mode_of_points = df['Points'].mode()\n",
    "print('Mode of Points',mode_of_points)"
   ]
  },
  {
   "cell_type": "code",
   "execution_count": 7,
   "id": "0910aa50",
   "metadata": {},
   "outputs": [
    {
     "name": "stdout",
     "output_type": "stream",
     "text": [
      "n : 32\n",
      "Sum of Square mean and value : 9.100821875000001\n",
      "Variance for Score  : 0.2935748991935484\n"
     ]
    }
   ],
   "source": [
    "variance_of_points = 0;\n",
    "sum_of_squre_mean_and_value=0;\n",
    "diff_mean_and_value=0;\n",
    "n= len(df['Points'])\n",
    "print('n :',n)\n",
    "\n",
    "for point in df['Points']:\n",
    "    \n",
    "    diff_mean_and_value=point-mean_of_points\n",
    "    sum_of_squre_mean_and_value =diff_mean_and_value**2+sum_of_squre_mean_and_value\n",
    "\n",
    "print('Sum of Square mean and value :',sum_of_squre_mean_and_value)\n",
    "variance_of_points =sum_of_squre_mean_and_value/(n-1)\n",
    "print('Variance for Score  :',variance_of_points)"
   ]
  },
  {
   "cell_type": "code",
   "execution_count": 8,
   "id": "b5a9c98a",
   "metadata": {},
   "outputs": [
    {
     "name": "stdout",
     "output_type": "stream",
     "text": [
      "Standard Deviation Of Points 0.5418255246788845\n"
     ]
    }
   ],
   "source": [
    "standard_deviation_points = np.sqrt(variance_of_points)\n",
    "print('Standard Deviation Of Points',standard_deviation_points)"
   ]
  },
  {
   "cell_type": "code",
   "execution_count": 9,
   "id": "ef9af2a2",
   "metadata": {},
   "outputs": [
    {
     "name": "stdout",
     "output_type": "stream",
     "text": [
      "Range of Points 2.17\n"
     ]
    }
   ],
   "source": [
    "range_of_points = np.max(df['Points'])-np.min(df['Points'])\n",
    "print('Range of Points',range_of_points)"
   ]
  },
  {
   "cell_type": "markdown",
   "id": "e5a7ba9c",
   "metadata": {},
   "source": [
    "# Calculations for  Score"
   ]
  },
  {
   "cell_type": "code",
   "execution_count": 10,
   "id": "dce4420e",
   "metadata": {},
   "outputs": [
    {
     "name": "stdout",
     "output_type": "stream",
     "text": [
      "Mean Of Score : 3.2172499999999995\n"
     ]
    }
   ],
   "source": [
    "mean_of_score = df['Score'].mean()\n",
    "print('Mean Of Score :',mean_of_score)"
   ]
  },
  {
   "cell_type": "code",
   "execution_count": 11,
   "id": "d9d165fa",
   "metadata": {},
   "outputs": [
    {
     "name": "stdout",
     "output_type": "stream",
     "text": [
      "Median an Score : 3.325\n"
     ]
    }
   ],
   "source": [
    "median_of_score = df['Score'].median()\n",
    "print('Median an Score :',median_of_score)"
   ]
  },
  {
   "cell_type": "code",
   "execution_count": 12,
   "id": "7285c52b",
   "metadata": {},
   "outputs": [
    {
     "name": "stdout",
     "output_type": "stream",
     "text": [
      "Mode an Score : 0    3.44\n",
      "Name: Score, dtype: float64\n"
     ]
    }
   ],
   "source": [
    "mode_of_score = df['Score'].mode()\n",
    "print('Mode an Score :',mode_of_score)"
   ]
  },
  {
   "cell_type": "code",
   "execution_count": 13,
   "id": "9fb17c8c",
   "metadata": {},
   "outputs": [
    {
     "name": "stdout",
     "output_type": "stream",
     "text": [
      "n : 32\n",
      "Sum of Square mean and value : 29.678748000000006\n",
      "Variance of Score: 0.9573789677419356\n"
     ]
    }
   ],
   "source": [
    "variance_of_score = 0;\n",
    "sum_of_squre_mean_and_value=0;\n",
    "diff_mean_and_value=0;\n",
    "n= len(df['Score'])\n",
    "print('n :',n)\n",
    "\n",
    "for score in df['Score']:\n",
    "    \n",
    "    diff_mean_and_value=score-mean_of_score\n",
    "    sum_of_squre_mean_and_value =diff_mean_and_value**2+sum_of_squre_mean_and_value\n",
    "\n",
    "print('Sum of Square mean and value :',sum_of_squre_mean_and_value)\n",
    "variance_of_score =sum_of_squre_mean_and_value/(n-1)\n",
    "print('Variance of Score:',variance_of_score)\n"
   ]
  },
  {
   "cell_type": "code",
   "execution_count": 14,
   "id": "3518dfae",
   "metadata": {},
   "outputs": [
    {
     "name": "stdout",
     "output_type": "stream",
     "text": [
      "Standard Deviation Of Score 0.9784574429896967\n"
     ]
    }
   ],
   "source": [
    "standard_deviation_score = np.sqrt(variance_of_score)\n",
    "print('Standard Deviation Of Score',standard_deviation_score)"
   ]
  },
  {
   "cell_type": "code",
   "execution_count": 15,
   "id": "770e1b43",
   "metadata": {},
   "outputs": [
    {
     "name": "stdout",
     "output_type": "stream",
     "text": [
      "Range of Score 3.9110000000000005\n"
     ]
    }
   ],
   "source": [
    "range_of_score= np.max(df['Score'])-np.min(df['Score'])\n",
    "print('Range of Score',range_of_score)"
   ]
  },
  {
   "cell_type": "markdown",
   "id": "4264bd67",
   "metadata": {},
   "source": [
    "# Calculation for Weigh"
   ]
  },
  {
   "cell_type": "code",
   "execution_count": 16,
   "id": "d5972aaf",
   "metadata": {},
   "outputs": [
    {
     "name": "stdout",
     "output_type": "stream",
     "text": [
      "Mean Of Weigh : 17.848750000000003\n"
     ]
    }
   ],
   "source": [
    "mean_of_weigh = df['Weigh'].mean()\n",
    "print('Mean Of Weigh :',mean_of_weigh)"
   ]
  },
  {
   "cell_type": "code",
   "execution_count": 17,
   "id": "f1989e90",
   "metadata": {},
   "outputs": [
    {
     "name": "stdout",
     "output_type": "stream",
     "text": [
      "Median of Weigh : 17.71\n"
     ]
    }
   ],
   "source": [
    "median_of_weigh = df['Weigh'].median()\n",
    "print('Median of Weigh :',median_of_weigh)"
   ]
  },
  {
   "cell_type": "code",
   "execution_count": 18,
   "id": "61042e2d",
   "metadata": {},
   "outputs": [
    {
     "name": "stdout",
     "output_type": "stream",
     "text": [
      "Mode of Weigh : 0    17.02\n",
      "1    18.90\n",
      "Name: Weigh, dtype: float64\n"
     ]
    }
   ],
   "source": [
    "mode_of_weigh = df['Weigh'].mode()\n",
    "print('Mode of Weigh :',mode_of_weigh)"
   ]
  },
  {
   "cell_type": "code",
   "execution_count": 19,
   "id": "a89382e9",
   "metadata": {},
   "outputs": [
    {
     "name": "stdout",
     "output_type": "stream",
     "text": [
      "n : 32\n",
      "Sum of Square mean and value : 98.98814999999999\n",
      "Variance of Weigh: 3.193166129032258\n"
     ]
    }
   ],
   "source": [
    "variance_of_weigh = 0;\n",
    "sum_of_squre_mean_and_value=0;\n",
    "diff_mean_and_value=0;\n",
    "n= len(df['Weigh'])\n",
    "print('n :',n)\n",
    "\n",
    "for score in df['Weigh']:\n",
    "    \n",
    "    diff_mean_and_value=score-mean_of_weigh\n",
    "    sum_of_squre_mean_and_value =diff_mean_and_value**2+sum_of_squre_mean_and_value\n",
    "\n",
    "print('Sum of Square mean and value :',sum_of_squre_mean_and_value)\n",
    "variance_of_weigh =sum_of_squre_mean_and_value/(n-1)\n",
    "print('Variance of Weigh:',variance_of_weigh)\n"
   ]
  },
  {
   "cell_type": "code",
   "execution_count": 20,
   "id": "b5287cc5",
   "metadata": {},
   "outputs": [
    {
     "name": "stdout",
     "output_type": "stream",
     "text": [
      "Standard Deviation Of Weigh 1.7869432360968431\n"
     ]
    }
   ],
   "source": [
    "standard_deviation_weigh = np.sqrt(variance_of_weigh)\n",
    "print('Standard Deviation Of Weigh',standard_deviation_weigh)"
   ]
  },
  {
   "cell_type": "code",
   "execution_count": 21,
   "id": "710b5da5",
   "metadata": {},
   "outputs": [
    {
     "name": "stdout",
     "output_type": "stream",
     "text": [
      "Range of Weigh 8.399999999999999\n"
     ]
    }
   ],
   "source": [
    "range_of_weigh= np.max(df['Weigh'])-np.min(df['Weigh'])\n",
    "print('Range of Weigh',range_of_weigh)"
   ]
  },
  {
   "cell_type": "code",
   "execution_count": 22,
   "id": "89a35d8a",
   "metadata": {},
   "outputs": [
    {
     "data": {
      "text/plain": [
       "<AxesSubplot:>"
      ]
     },
     "execution_count": 22,
     "metadata": {},
     "output_type": "execute_result"
    },
    {
     "data": {
      "image/png": "[encoded data removed]",
      "text/plain": [
       "<Figure size 432x288 with 1 Axes>"
      ]
     },
     "metadata": {
      "needs_background": "light"
     },
     "output_type": "display_data"
    }
   ],
   "source": [
    "df['Points'].hist()"
   ]
  },
  {
   "cell_type": "code",
   "execution_count": 23,
   "id": "aaa328e2",
   "metadata": {},
   "outputs": [
    {
     "data": {
      "text/plain": [
       "{'whiskers': [<matplotlib.lines.Line2D at 0x2d507d2a670>,\n",
       "  <matplotlib.lines.Line2D at 0x2d507d2a940>],\n",
       " 'caps': [<matplotlib.lines.Line2D at 0x2d507d2acd0>,\n",
       "  <matplotlib.lines.Line2D at 0x2d507d2aee0>],\n",
       " 'boxes': [<matplotlib.lines.Line2D at 0x2d507d2a3a0>],\n",
       " 'medians': [<matplotlib.lines.Line2D at 0x2d507d3d1f0>],\n",
       " 'fliers': [<matplotlib.lines.Line2D at 0x2d507d3d4c0>],\n",
       " 'means': []}"
      ]
     },
     "execution_count": 23,
     "metadata": {},
     "output_type": "execute_result"
    },
    {
     "data": {
      "image/png": "[encoded data removed]",
      "text/plain": [
       "<Figure size 432x288 with 1 Axes>"
      ]
     },
     "metadata": {
      "needs_background": "light"
     },
     "output_type": "display_data"
    }
   ],
   "source": [
    "plt.boxplot(df['Points'])"
   ]
  },
  {
   "cell_type": "code",
   "execution_count": 24,
   "id": "76ccf3ba",
   "metadata": {},
   "outputs": [
    {
     "data": {
      "text/plain": [
       "{'whiskers': [<matplotlib.lines.Line2D at 0x2d507d976d0>,\n",
       "  <matplotlib.lines.Line2D at 0x2d507d979a0>],\n",
       " 'caps': [<matplotlib.lines.Line2D at 0x2d507d97c70>,\n",
       "  <matplotlib.lines.Line2D at 0x2d507d97f40>],\n",
       " 'boxes': [<matplotlib.lines.Line2D at 0x2d507d97400>],\n",
       " 'medians': [<matplotlib.lines.Line2D at 0x2d507da5250>],\n",
       " 'fliers': [<matplotlib.lines.Line2D at 0x2d507da5520>],\n",
       " 'means': []}"
      ]
     },
     "execution_count": 24,
     "metadata": {},
     "output_type": "execute_result"
    },
    {
     "data": {
      "image/png": "[encoded data removed]",
      "text/plain": [
       "<Figure size 432x288 with 1 Axes>"
      ]
     },
     "metadata": {
      "needs_background": "light"
     },
     "output_type": "display_data"
    }
   ],
   "source": [
    "plt.boxplot(df['Weigh'])"
   ]
  },
  {
   "cell_type": "code",
   "execution_count": 25,
   "id": "b0fa8f7c",
   "metadata": {},
   "outputs": [
    {
     "data": {
      "text/plain": [
       "{'whiskers': [<matplotlib.lines.Line2D at 0x2d507e00130>,\n",
       "  <matplotlib.lines.Line2D at 0x2d507e00400>],\n",
       " 'caps': [<matplotlib.lines.Line2D at 0x2d507e006d0>,\n",
       "  <matplotlib.lines.Line2D at 0x2d507e009a0>],\n",
       " 'boxes': [<matplotlib.lines.Line2D at 0x2d507defe20>],\n",
       " 'medians': [<matplotlib.lines.Line2D at 0x2d507e00ca0>],\n",
       " 'fliers': [<matplotlib.lines.Line2D at 0x2d507e00f70>],\n",
       " 'means': []}"
      ]
     },
     "execution_count": 25,
     "metadata": {},
     "output_type": "execute_result"
    },
    {
     "data": {
      "image/png": "[encoded data removed]",
      "text/plain": [
       "<Figure size 432x288 with 1 Axes>"
      ]
     },
     "metadata": {
      "needs_background": "light"
     },
     "output_type": "display_data"
    }
   ],
   "source": [
    "plt.boxplot(df['Score'])"
   ]
  },
  {
   "cell_type": "code",
   "execution_count": null,
   "id": "fcf07528",
   "metadata": {},
   "outputs": [],
   "source": []
  }
 ],
 "metadata": {
  "kernelspec": {
   "display_name": "Python 3 (ipykernel)",
   "language": "python",
   "name": "python3"
  },
  "language_info": {
   "codemirror_mode": {
    "name": "ipython",
    "version": 3
   },
   "file_extension": ".py",
   "mimetype": "text/x-python",
   "name": "python",
   "nbconvert_exporter": "python",
   "pygments_lexer": "ipython3",
   "version": "3.9.12"
  }
 },
 "nbformat": 4,
 "nbformat_minor": 5
}
