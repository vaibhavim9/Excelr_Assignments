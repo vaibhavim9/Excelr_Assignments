{
 "cells": [
  {
   "cell_type": "code",
   "execution_count": 1,
   "id": "b39219cf",
   "metadata": {},
   "outputs": [],
   "source": [
    "import numpy as np\n",
    "import pandas as pd\n",
    "import matplotlib.pyplot as plt\n",
    "import seaborn as sns\n",
    "from scipy.stats import norm"
   ]
  },
  {
   "cell_type": "markdown",
   "id": "fc256960",
   "metadata": {},
   "source": [
    "# Q22"
   ]
  },
  {
   "cell_type": "code",
   "execution_count": 2,
   "id": "ce6c7597",
   "metadata": {},
   "outputs": [],
   "source": [
    "# z value for 90% confidence interval"
   ]
  },
  {
   "cell_type": "markdown",
   "id": "ff0262cb",
   "metadata": {},
   "source": [
    "A=(1+0.90)/2,\n",
    "A=1.9/2\n",
    "A=0.95"
   ]
  },
  {
   "cell_type": "code",
   "execution_count": 3,
   "id": "c3bafce5",
   "metadata": {},
   "outputs": [
    {
     "ename": "NameError",
     "evalue": "name 'stats' is not defined",
     "output_type": "error",
     "traceback": [
      "\u001b[1;31m---------------------------------------------------------------------------\u001b[0m",
      "\u001b[1;31mNameError\u001b[0m                                 Traceback (most recent call last)",
      "Input \u001b[1;32mIn [3]\u001b[0m, in \u001b[0;36m<cell line: 2>\u001b[1;34m()\u001b[0m\n\u001b[0;32m      1\u001b[0m \u001b[38;5;66;03m# Z-score of 90% confidence interval \u001b[39;00m\n\u001b[1;32m----> 2\u001b[0m \u001b[43mstats\u001b[49m\u001b[38;5;241m.\u001b[39mnorm\u001b[38;5;241m.\u001b[39mppf(\u001b[38;5;241m0.95\u001b[39m)\n",
      "\u001b[1;31mNameError\u001b[0m: name 'stats' is not defined"
     ]
    }
   ],
   "source": [
    "# Z-score of 90% confidence interval \n",
    "stats.norm.ppf(0.95)"
   ]
  },
  {
   "cell_type": "code",
   "execution_count": null,
   "id": "8577c6d4",
   "metadata": {},
   "outputs": [],
   "source": [
    "# z value for 94% confidence interval"
   ]
  },
  {
   "cell_type": "markdown",
   "id": "7fa04046",
   "metadata": {},
   "source": [
    "A=(1+0.94)/2,\n",
    "A=(1.94)/2,\n",
    "A=0.97"
   ]
  },
  {
   "cell_type": "code",
   "execution_count": null,
   "id": "9480f28e",
   "metadata": {},
   "outputs": [],
   "source": [
    "# Z-score of 94% confidence interval \n",
    "stats.norm.ppf(0.97)"
   ]
  },
  {
   "cell_type": "code",
   "execution_count": null,
   "id": "8400becc",
   "metadata": {},
   "outputs": [],
   "source": [
    "# z value for 60% confidence interval"
   ]
  },
  {
   "cell_type": "markdown",
   "id": "65bf7206",
   "metadata": {},
   "source": [
    "A=(1+0.60)/2, A=(1.60)/2, A=0.8"
   ]
  },
  {
   "cell_type": "code",
   "execution_count": null,
   "id": "57010e07",
   "metadata": {},
   "outputs": [],
   "source": [
    "# Z-score of 60% confidence interval\n",
    "stats.norm.ppf(0.8)"
   ]
  },
  {
   "cell_type": "markdown",
   "id": "14cf634f",
   "metadata": {},
   "source": [
    "# Q23"
   ]
  },
  {
   "cell_type": "code",
   "execution_count": null,
   "id": "1c65d0db",
   "metadata": {},
   "outputs": [],
   "source": [
    "# t scores of 95% confidence interval for sample size of 25\n",
    "stats.t.ppf(0.975,24)  # df = n-1 = 24"
   ]
  },
  {
   "cell_type": "code",
   "execution_count": null,
   "id": "a49432b1",
   "metadata": {},
   "outputs": [],
   "source": [
    "# t scores of 96% confidence interval for sample size of 25\n",
    "stats.t.ppf(0.98,24)"
   ]
  },
  {
   "cell_type": "code",
   "execution_count": null,
   "id": "20c8a6df",
   "metadata": {},
   "outputs": [],
   "source": [
    "# t scores of 99% confidence interval for sample size of 25\n",
    "stats.t.ppf(0.995,24)"
   ]
  },
  {
   "cell_type": "code",
   "execution_count": null,
   "id": "5914f192",
   "metadata": {},
   "outputs": [],
   "source": []
  }
 ],
 "metadata": {
  "kernelspec": {
   "display_name": "Python 3 (ipykernel)",
   "language": "python",
   "name": "python3"
  },
  "language_info": {
   "codemirror_mode": {
    "name": "ipython",
    "version": 3
   },
   "file_extension": ".py",
   "mimetype": "text/x-python",
   "name": "python",
   "nbconvert_exporter": "python",
   "pygments_lexer": "ipython3",
   "version": "3.9.12"
  }
 },
 "nbformat": 4,
 "nbformat_minor": 5
}
