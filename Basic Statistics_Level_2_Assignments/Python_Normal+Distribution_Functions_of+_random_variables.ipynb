{
 "cells": [
  {
   "cell_type": "markdown",
   "id": "e9811213",
   "metadata": {},
   "source": [
    "# Question No.1\n",
    "\n",
    "The time required for servicing transmissions is normally distributed with mean = 45 minutes and standard deviation = 8 minutes. The service manager plans to have work begin on the transmission of a customer’s car 10 minutes after the car is dropped off and the customer is told that the car will be ready within 1 hour from drop-off. What is the probability that the service manager cannot meet his commitment? \n"
   ]
  },
  {
   "cell_type": "code",
   "execution_count": 1,
   "id": "834c50fa",
   "metadata": {
    "ExecuteTime": {
     "end_time": "2023-01-16T10:34:49.800737Z",
     "start_time": "2023-01-16T10:34:49.784339Z"
    }
   },
   "outputs": [],
   "source": [
    "# Import libraries\n",
    "\n",
    "from scipy import stats\n",
    "from scipy.stats import norm"
   ]
  },
  {
   "cell_type": "code",
   "execution_count": 2,
   "id": "a9f700e2",
   "metadata": {
    "ExecuteTime": {
     "end_time": "2023-01-16T10:36:04.308288Z",
     "start_time": "2023-01-16T10:36:04.291295Z"
    }
   },
   "outputs": [
    {
     "data": {
      "text/plain": [
       "0.625"
      ]
     },
     "execution_count": 2,
     "metadata": {},
     "output_type": "execute_result"
    }
   ],
   "source": [
    "# Find z score at x = 50\n",
    "\n",
    "z = (50-45)/8\n",
    "z"
   ]
  },
  {
   "cell_type": "code",
   "execution_count": 3,
   "id": "38b2171f",
   "metadata": {
    "ExecuteTime": {
     "end_time": "2023-01-16T10:37:56.599102Z",
     "start_time": "2023-01-16T10:37:56.580510Z"
    }
   },
   "outputs": [
    {
     "data": {
      "text/plain": [
       "0.7340144709512995"
      ]
     },
     "execution_count": 3,
     "metadata": {},
     "output_type": "execute_result"
    }
   ],
   "source": [
    "# Find probability for p(x>50)\n",
    "\n",
    "stats.norm.cdf(0.625)"
   ]
  },
  {
   "cell_type": "code",
   "execution_count": 4,
   "id": "64c63cc5",
   "metadata": {
    "ExecuteTime": {
     "end_time": "2023-01-16T10:38:09.694661Z",
     "start_time": "2023-01-16T10:38:09.672429Z"
    }
   },
   "outputs": [
    {
     "data": {
      "text/plain": [
       "0.26598552904870054"
      ]
     },
     "execution_count": 4,
     "metadata": {},
     "output_type": "execute_result"
    }
   ],
   "source": [
    "1 - stats.norm.cdf(0.625)"
   ]
  },
  {
   "cell_type": "code",
   "execution_count": 5,
   "id": "bc5b9082",
   "metadata": {
    "ExecuteTime": {
     "end_time": "2023-01-16T10:40:15.704611Z",
     "start_time": "2023-01-16T10:40:15.684405Z"
    }
   },
   "outputs": [
    {
     "data": {
      "text/plain": [
       "0.7340144709512995"
      ]
     },
     "execution_count": 5,
     "metadata": {},
     "output_type": "execute_result"
    }
   ],
   "source": [
    "# Find probability for p(x<=50)\n",
    "\n",
    "p_value = stats.norm.cdf(0.625)\n",
    "p_value"
   ]
  },
  {
   "cell_type": "code",
   "execution_count": 6,
   "id": "5ccebe2b",
   "metadata": {
    "ExecuteTime": {
     "end_time": "2023-01-16T10:42:08.895924Z",
     "start_time": "2023-01-16T10:42:08.875936Z"
    }
   },
   "outputs": [
    {
     "data": {
      "text/plain": [
       "0.266"
      ]
     },
     "execution_count": 6,
     "metadata": {},
     "output_type": "execute_result"
    }
   ],
   "source": [
    "# P(X>50) = 1 - P(X<=50)\n",
    "\n",
    "1 - 0.7340"
   ]
  },
  {
   "cell_type": "markdown",
   "id": "6c0afb05",
   "metadata": {},
   "source": [
    "# Question No.2\n",
    "\n",
    "The current age (in years) of 400 clerical employees at an insurance claims processing center is normally distributed with mean = 38 and Standard deviation = 6. For each statement below, please specify True/False. If false, briefly explain why?"
   ]
  },
  {
   "cell_type": "markdown",
   "id": "bc0db860",
   "metadata": {},
   "source": [
    "A) More employees at the processing center are older than 44 than between 38 and 44."
   ]
  },
  {
   "cell_type": "code",
   "execution_count": 7,
   "id": "95643f20",
   "metadata": {
    "ExecuteTime": {
     "end_time": "2023-01-16T10:48:18.857040Z",
     "start_time": "2023-01-16T10:48:18.833404Z"
    }
   },
   "outputs": [
    {
     "data": {
      "text/plain": [
       "0.8413447460685429"
      ]
     },
     "execution_count": 7,
     "metadata": {},
     "output_type": "execute_result"
    }
   ],
   "source": [
    "# p(x>44) Employees older than 44 years of age\n",
    "\n",
    "stats.norm.cdf(44,38,6)"
   ]
  },
  {
   "cell_type": "code",
   "execution_count": 8,
   "id": "5aaad3f6",
   "metadata": {
    "ExecuteTime": {
     "end_time": "2023-01-16T10:48:29.336571Z",
     "start_time": "2023-01-16T10:48:29.314905Z"
    }
   },
   "outputs": [
    {
     "data": {
      "text/plain": [
       "0.15865525393145707"
      ]
     },
     "execution_count": 8,
     "metadata": {},
     "output_type": "execute_result"
    }
   ],
   "source": [
    "1 - stats.norm.cdf(44,38,6)"
   ]
  },
  {
   "cell_type": "code",
   "execution_count": 9,
   "id": "33d547dc",
   "metadata": {
    "ExecuteTime": {
     "end_time": "2023-01-16T10:50:05.651897Z",
     "start_time": "2023-01-16T10:50:05.628206Z"
    }
   },
   "outputs": [
    {
     "data": {
      "text/plain": [
       "0.3413447460685429"
      ]
     },
     "execution_count": 9,
     "metadata": {},
     "output_type": "execute_result"
    }
   ],
   "source": [
    "# p(38<x<44) Employees between 38 and 44 years of age\n",
    "\n",
    "stats.norm.cdf(44,38,6) - stats.norm.cdf(38,38,6)"
   ]
  },
  {
   "cell_type": "markdown",
   "id": "18934673",
   "metadata": {},
   "source": [
    "B) A training program for employees under the age of 30 at the center would be expected to attract about 36 employees."
   ]
  },
  {
   "cell_type": "code",
   "execution_count": 10,
   "id": "e0a452fb",
   "metadata": {
    "ExecuteTime": {
     "end_time": "2023-01-16T10:53:50.089586Z",
     "start_time": "2023-01-16T10:53:50.065105Z"
    }
   },
   "outputs": [
    {
     "data": {
      "text/plain": [
       "0.09121121972586788"
      ]
     },
     "execution_count": 10,
     "metadata": {},
     "output_type": "execute_result"
    }
   ],
   "source": [
    "# p(x<30) Employees under 30 years of age\n",
    "\n",
    "stats.norm.cdf(30,38,6)"
   ]
  },
  {
   "cell_type": "code",
   "execution_count": 11,
   "id": "3f66f624",
   "metadata": {
    "ExecuteTime": {
     "end_time": "2023-01-16T10:57:46.251869Z",
     "start_time": "2023-01-16T10:57:46.224766Z"
    }
   },
   "outputs": [
    {
     "data": {
      "text/plain": [
       "36.484487890347154"
      ]
     },
     "execution_count": 11,
     "metadata": {},
     "output_type": "execute_result"
    }
   ],
   "source": [
    "# Number of employees attending training under the age of 30 years\n",
    "\n",
    "400* stats.norm.cdf(30,38,6)"
   ]
  },
  {
   "cell_type": "markdown",
   "id": "093b8116",
   "metadata": {},
   "source": [
    "# Question No.4\n",
    "\n",
    "Let X ~ N(100, 20^2). Find two values, a and b, symmetric about the mean, such that the probability of the random variable taking a value between them is 0.99."
   ]
  },
  {
   "cell_type": "code",
   "execution_count": 12,
   "id": "59b29d72",
   "metadata": {
    "ExecuteTime": {
     "end_time": "2023-01-16T11:15:03.524295Z",
     "start_time": "2023-01-16T11:15:03.501523Z"
    }
   },
   "outputs": [
    {
     "data": {
      "text/plain": [
       "(48.48341392902199, 151.516586070978)"
      ]
     },
     "execution_count": 12,
     "metadata": {},
     "output_type": "execute_result"
    }
   ],
   "source": [
    "stats.norm.interval(0.99,100,20)"
   ]
  },
  {
   "cell_type": "markdown",
   "id": "d1a80a43",
   "metadata": {},
   "source": [
    "# Question No.5\n",
    "\n",
    "Consider a company that has two different divisions. The annual profits from the two divisions are independent and have distributions Profit1 ~ N(5, 3^2) and Profit2 ~ N(7, 4^2) respectively. Both the profits are in $ Million. \n",
    "\n",
    "Answer the following questions about the total profit of the company in Rupees. \n",
    "Assume that $1 = Rs. 45\n",
    "\n",
    "A. Specify a Rupee range (centered on the mean) such that it contains 95% probability for the annual      profit of the company.\n",
    "\n",
    "B. Specify the 5th percentile of profit (in Rupees) for the company.\n",
    "\n",
    "C. Which of the two divisions has a larger probability of making a loss in a given year?\n"
   ]
  },
  {
   "cell_type": "code",
   "execution_count": 13,
   "id": "224e06ab",
   "metadata": {
    "ExecuteTime": {
     "end_time": "2023-01-16T11:19:02.512398Z",
     "start_time": "2023-01-16T11:19:02.505036Z"
    }
   },
   "outputs": [],
   "source": [
    "# Import libraries \n",
    "\n",
    "import numpy as np"
   ]
  },
  {
   "cell_type": "code",
   "execution_count": 14,
   "id": "f0c671bc",
   "metadata": {
    "ExecuteTime": {
     "end_time": "2023-01-16T11:22:16.752675Z",
     "start_time": "2023-01-16T11:22:16.728702Z"
    }
   },
   "outputs": [
    {
     "name": "stdout",
     "output_type": "stream",
     "text": [
      "Mean profit is 540 Million\n"
     ]
    }
   ],
   "source": [
    "# Mean profit from two different divisions of a company \n",
    "\n",
    "mean = 5+7\n",
    "print('Mean profit is', mean*45, 'Million')"
   ]
  },
  {
   "cell_type": "code",
   "execution_count": 15,
   "id": "2f73e9e9",
   "metadata": {
    "ExecuteTime": {
     "end_time": "2023-01-16T11:26:31.169943Z",
     "start_time": "2023-01-16T11:26:31.149627Z"
    }
   },
   "outputs": [
    {
     "name": "stdout",
     "output_type": "stream",
     "text": [
      "Standard deviation is 225.0 Million\n"
     ]
    }
   ],
   "source": [
    "# Variance of profits from two different divisions of company\n",
    "\n",
    "sd = np.sqrt((9) + (16))\n",
    "print('Standard deviation is', sd*45, 'Million')"
   ]
  },
  {
   "cell_type": "markdown",
   "id": "5b568b00",
   "metadata": {},
   "source": [
    "A. Specify a Rupee range (centered on the mean) such that it contains 95% probability for the annual profit of the company."
   ]
  },
  {
   "cell_type": "code",
   "execution_count": 16,
   "id": "7315fb40",
   "metadata": {
    "ExecuteTime": {
     "end_time": "2023-01-16T11:30:23.059571Z",
     "start_time": "2023-01-16T11:30:23.041468Z"
    }
   },
   "outputs": [
    {
     "data": {
      "text/plain": [
       "(99.00810347848784, 980.9918965215122)"
      ]
     },
     "execution_count": 16,
     "metadata": {},
     "output_type": "execute_result"
    }
   ],
   "source": [
    "stats.norm.interval(0.95,540,225)"
   ]
  },
  {
   "cell_type": "markdown",
   "id": "57fe858e",
   "metadata": {},
   "source": [
    "B. Specify the 5th percentile of profit (in Rupees) for the company."
   ]
  },
  {
   "cell_type": "code",
   "execution_count": 17,
   "id": "0b914b14",
   "metadata": {
    "ExecuteTime": {
     "end_time": "2023-01-16T11:34:10.502818Z",
     "start_time": "2023-01-16T11:34:10.481262Z"
    }
   },
   "outputs": [
    {
     "data": {
      "text/plain": [
       "169.875"
      ]
     },
     "execution_count": 17,
     "metadata": {},
     "output_type": "execute_result"
    }
   ],
   "source": [
    "# To compute 5th Percentile, we use the formula X= μ + Zσ; wherein from z table, 5 percentile = -1.645\n",
    "x = 540 + (-1.645)*(225)\n",
    "x"
   ]
  },
  {
   "cell_type": "markdown",
   "id": "3f95147e",
   "metadata": {},
   "source": [
    "C. Which of the two divisions has a larger probability of making a loss in a given year?"
   ]
  },
  {
   "cell_type": "code",
   "execution_count": 18,
   "id": "15f66297",
   "metadata": {
    "ExecuteTime": {
     "end_time": "2023-01-16T11:35:20.301124Z",
     "start_time": "2023-01-16T11:35:20.276328Z"
    }
   },
   "outputs": [
    {
     "data": {
      "text/plain": [
       "0.0477903522728147"
      ]
     },
     "execution_count": 18,
     "metadata": {},
     "output_type": "execute_result"
    }
   ],
   "source": [
    "# Probability of Division 1 making a loss P(X<0)\n",
    "stats.norm.cdf(0,5,3)"
   ]
  },
  {
   "cell_type": "code",
   "execution_count": 19,
   "id": "12ed4e98",
   "metadata": {
    "ExecuteTime": {
     "end_time": "2023-01-16T11:35:33.200761Z",
     "start_time": "2023-01-16T11:35:33.176956Z"
    }
   },
   "outputs": [
    {
     "data": {
      "text/plain": [
       "0.040059156863817086"
      ]
     },
     "execution_count": 19,
     "metadata": {},
     "output_type": "execute_result"
    }
   ],
   "source": [
    "# Probability of Division 2 making a loss P(X<0)\n",
    "stats.norm.cdf(0,7,4)"
   ]
  }
 ],
 "metadata": {
  "kernelspec": {
   "display_name": "Python 3 (ipykernel)",
   "language": "python",
   "name": "python3"
  },
  "language_info": {
   "codemirror_mode": {
    "name": "ipython",
    "version": 3
   },
   "file_extension": ".py",
   "mimetype": "text/x-python",
   "name": "python",
   "nbconvert_exporter": "python",
   "pygments_lexer": "ipython3",
   "version": "3.9.12"
  }
 },
 "nbformat": 4,
 "nbformat_minor": 5
}
