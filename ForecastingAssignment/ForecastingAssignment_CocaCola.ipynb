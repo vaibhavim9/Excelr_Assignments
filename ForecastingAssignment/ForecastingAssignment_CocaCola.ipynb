{
 "cells": [
  {
   "cell_type": "markdown",
   "id": "5ecdfdc1",
   "metadata": {},
   "source": [
    "# Problem Statement"
   ]
  },
  {
   "cell_type": "markdown",
   "id": "2c2df2e1",
   "metadata": {},
   "source": [
    "Forecast the CocaCola prices  data set. Prepare a document for each model explaining \n",
    "how many dummy variables you have created and RMSE value for each model. Finally which model you will use for \n",
    "Forecasting.\n"
   ]
  },
  {
   "cell_type": "code",
   "execution_count": 1,
   "id": "575de2cc",
   "metadata": {},
   "outputs": [],
   "source": [
    "# importing necessary libraries\n",
    "import pandas as pd\n",
    "import numpy as np\n",
    "import matplotlib.pyplot as plt\n",
    "import seaborn as sns"
   ]
  },
  {
   "cell_type": "code",
   "execution_count": 2,
   "id": "d369d65c",
   "metadata": {},
   "outputs": [],
   "source": [
    "coca_df = pd.read_excel('CocaCola_Sales_Rawdata.xlsx')"
   ]
  },
  {
   "cell_type": "code",
   "execution_count": 3,
   "id": "1e08f32a",
   "metadata": {},
   "outputs": [
    {
     "data": {
      "text/html": [
       "<div>\n",
       "<style scoped>\n",
       "    .dataframe tbody tr th:only-of-type {\n",
       "        vertical-align: middle;\n",
       "    }\n",
       "\n",
       "    .dataframe tbody tr th {\n",
       "        vertical-align: top;\n",
       "    }\n",
       "\n",
       "    .dataframe thead th {\n",
       "        text-align: right;\n",
       "    }\n",
       "</style>\n",
       "<table border=\"1\" class=\"dataframe\">\n",
       "  <thead>\n",
       "    <tr style=\"text-align: right;\">\n",
       "      <th></th>\n",
       "      <th>Quarter</th>\n",
       "      <th>Sales</th>\n",
       "    </tr>\n",
       "  </thead>\n",
       "  <tbody>\n",
       "    <tr>\n",
       "      <th>0</th>\n",
       "      <td>Q1_86</td>\n",
       "      <td>1734.827000</td>\n",
       "    </tr>\n",
       "    <tr>\n",
       "      <th>1</th>\n",
       "      <td>Q2_86</td>\n",
       "      <td>2244.960999</td>\n",
       "    </tr>\n",
       "    <tr>\n",
       "      <th>2</th>\n",
       "      <td>Q3_86</td>\n",
       "      <td>2533.804993</td>\n",
       "    </tr>\n",
       "    <tr>\n",
       "      <th>3</th>\n",
       "      <td>Q4_86</td>\n",
       "      <td>2154.962997</td>\n",
       "    </tr>\n",
       "    <tr>\n",
       "      <th>4</th>\n",
       "      <td>Q1_87</td>\n",
       "      <td>1547.818996</td>\n",
       "    </tr>\n",
       "    <tr>\n",
       "      <th>5</th>\n",
       "      <td>Q2_87</td>\n",
       "      <td>2104.411995</td>\n",
       "    </tr>\n",
       "    <tr>\n",
       "      <th>6</th>\n",
       "      <td>Q3_87</td>\n",
       "      <td>2014.362999</td>\n",
       "    </tr>\n",
       "    <tr>\n",
       "      <th>7</th>\n",
       "      <td>Q4_87</td>\n",
       "      <td>1991.746998</td>\n",
       "    </tr>\n",
       "    <tr>\n",
       "      <th>8</th>\n",
       "      <td>Q1_88</td>\n",
       "      <td>1869.049999</td>\n",
       "    </tr>\n",
       "    <tr>\n",
       "      <th>9</th>\n",
       "      <td>Q2_88</td>\n",
       "      <td>2313.631996</td>\n",
       "    </tr>\n",
       "  </tbody>\n",
       "</table>\n",
       "</div>"
      ],
      "text/plain": [
       "  Quarter        Sales\n",
       "0   Q1_86  1734.827000\n",
       "1   Q2_86  2244.960999\n",
       "2   Q3_86  2533.804993\n",
       "3   Q4_86  2154.962997\n",
       "4   Q1_87  1547.818996\n",
       "5   Q2_87  2104.411995\n",
       "6   Q3_87  2014.362999\n",
       "7   Q4_87  1991.746998\n",
       "8   Q1_88  1869.049999\n",
       "9   Q2_88  2313.631996"
      ]
     },
     "execution_count": 3,
     "metadata": {},
     "output_type": "execute_result"
    }
   ],
   "source": [
    "coca_df.head(10)"
   ]
  },
  {
   "cell_type": "code",
   "execution_count": 4,
   "id": "161a41ec",
   "metadata": {},
   "outputs": [
    {
     "name": "stdout",
     "output_type": "stream",
     "text": [
      "<class 'pandas.core.frame.DataFrame'>\n",
      "RangeIndex: 42 entries, 0 to 41\n",
      "Data columns (total 2 columns):\n",
      " #   Column   Non-Null Count  Dtype  \n",
      "---  ------   --------------  -----  \n",
      " 0   Quarter  42 non-null     object \n",
      " 1   Sales    42 non-null     float64\n",
      "dtypes: float64(1), object(1)\n",
      "memory usage: 800.0+ bytes\n"
     ]
    }
   ],
   "source": [
    "coca_df.info()"
   ]
  },
  {
   "cell_type": "code",
   "execution_count": 5,
   "id": "2a8e79aa",
   "metadata": {},
   "outputs": [
    {
     "data": {
      "text/html": [
       "<div>\n",
       "<style scoped>\n",
       "    .dataframe tbody tr th:only-of-type {\n",
       "        vertical-align: middle;\n",
       "    }\n",
       "\n",
       "    .dataframe tbody tr th {\n",
       "        vertical-align: top;\n",
       "    }\n",
       "\n",
       "    .dataframe thead th {\n",
       "        text-align: right;\n",
       "    }\n",
       "</style>\n",
       "<table border=\"1\" class=\"dataframe\">\n",
       "  <thead>\n",
       "    <tr style=\"text-align: right;\">\n",
       "      <th></th>\n",
       "      <th>count</th>\n",
       "      <th>mean</th>\n",
       "      <th>std</th>\n",
       "      <th>min</th>\n",
       "      <th>25%</th>\n",
       "      <th>50%</th>\n",
       "      <th>75%</th>\n",
       "      <th>max</th>\n",
       "    </tr>\n",
       "  </thead>\n",
       "  <tbody>\n",
       "    <tr>\n",
       "      <th>Sales</th>\n",
       "      <td>42.0</td>\n",
       "      <td>2994.353308</td>\n",
       "      <td>977.930896</td>\n",
       "      <td>1547.818996</td>\n",
       "      <td>2159.714247</td>\n",
       "      <td>2782.376999</td>\n",
       "      <td>3609.25</td>\n",
       "      <td>5253.0</td>\n",
       "    </tr>\n",
       "  </tbody>\n",
       "</table>\n",
       "</div>"
      ],
      "text/plain": [
       "       count         mean         std          min          25%          50%  \\\n",
       "Sales   42.0  2994.353308  977.930896  1547.818996  2159.714247  2782.376999   \n",
       "\n",
       "           75%     max  \n",
       "Sales  3609.25  5253.0  "
      ]
     },
     "execution_count": 5,
     "metadata": {},
     "output_type": "execute_result"
    }
   ],
   "source": [
    "coca_df.describe().T"
   ]
  },
  {
   "cell_type": "markdown",
   "id": "59621db0",
   "metadata": {},
   "source": [
    "***So,this plot is upward trending with Additive Seasonality.***"
   ]
  },
  {
   "cell_type": "markdown",
   "id": "a38026c4",
   "metadata": {},
   "source": [
    "# Creating Dummy Variables"
   ]
  },
  {
   "cell_type": "code",
   "execution_count": 6,
   "id": "4eb8433b",
   "metadata": {},
   "outputs": [
    {
     "name": "stderr",
     "output_type": "stream",
     "text": [
      "C:\\Users\\Vaibhavi\\AppData\\Local\\Temp\\ipykernel_11760\\1317477969.py:6: SettingWithCopyWarning: \n",
      "A value is trying to be set on a copy of a slice from a DataFrame\n",
      "\n",
      "See the caveats in the documentation: https://pandas.pydata.org/pandas-docs/stable/user_guide/indexing.html#returning-a-view-versus-a-copy\n",
      "  coca_df['Quarters'][i]=p[0:2]\n",
      "C:\\Users\\Vaibhavi\\AppData\\Local\\Temp\\ipykernel_11760\\1317477969.py:7: SettingWithCopyWarning: \n",
      "A value is trying to be set on a copy of a slice from a DataFrame\n",
      "\n",
      "See the caveats in the documentation: https://pandas.pydata.org/pandas-docs/stable/user_guide/indexing.html#returning-a-view-versus-a-copy\n",
      "  coca_df['Year'][i]=p[3:5]\n"
     ]
    }
   ],
   "source": [
    "#We will extract Quarter values and Year values separately from 'Quarter column'\n",
    "coca_df['Quarters']=0\n",
    "coca_df['Year']=0\n",
    "for i in range(42):\n",
    "    p=coca_df[\"Quarter\"][i]\n",
    "    coca_df['Quarters'][i]=p[0:2]\n",
    "    coca_df['Year'][i]=p[3:5]"
   ]
  },
  {
   "cell_type": "code",
   "execution_count": 7,
   "id": "59c010d4",
   "metadata": {},
   "outputs": [
    {
     "data": {
      "text/html": [
       "<div>\n",
       "<style scoped>\n",
       "    .dataframe tbody tr th:only-of-type {\n",
       "        vertical-align: middle;\n",
       "    }\n",
       "\n",
       "    .dataframe tbody tr th {\n",
       "        vertical-align: top;\n",
       "    }\n",
       "\n",
       "    .dataframe thead th {\n",
       "        text-align: right;\n",
       "    }\n",
       "</style>\n",
       "<table border=\"1\" class=\"dataframe\">\n",
       "  <thead>\n",
       "    <tr style=\"text-align: right;\">\n",
       "      <th></th>\n",
       "      <th>Quarter</th>\n",
       "      <th>Sales</th>\n",
       "      <th>Quarters</th>\n",
       "      <th>Year</th>\n",
       "    </tr>\n",
       "  </thead>\n",
       "  <tbody>\n",
       "    <tr>\n",
       "      <th>0</th>\n",
       "      <td>Q1_86</td>\n",
       "      <td>1734.827000</td>\n",
       "      <td>Q1</td>\n",
       "      <td>86</td>\n",
       "    </tr>\n",
       "    <tr>\n",
       "      <th>1</th>\n",
       "      <td>Q2_86</td>\n",
       "      <td>2244.960999</td>\n",
       "      <td>Q2</td>\n",
       "      <td>86</td>\n",
       "    </tr>\n",
       "    <tr>\n",
       "      <th>2</th>\n",
       "      <td>Q3_86</td>\n",
       "      <td>2533.804993</td>\n",
       "      <td>Q3</td>\n",
       "      <td>86</td>\n",
       "    </tr>\n",
       "    <tr>\n",
       "      <th>3</th>\n",
       "      <td>Q4_86</td>\n",
       "      <td>2154.962997</td>\n",
       "      <td>Q4</td>\n",
       "      <td>86</td>\n",
       "    </tr>\n",
       "    <tr>\n",
       "      <th>4</th>\n",
       "      <td>Q1_87</td>\n",
       "      <td>1547.818996</td>\n",
       "      <td>Q1</td>\n",
       "      <td>87</td>\n",
       "    </tr>\n",
       "    <tr>\n",
       "      <th>5</th>\n",
       "      <td>Q2_87</td>\n",
       "      <td>2104.411995</td>\n",
       "      <td>Q2</td>\n",
       "      <td>87</td>\n",
       "    </tr>\n",
       "    <tr>\n",
       "      <th>6</th>\n",
       "      <td>Q3_87</td>\n",
       "      <td>2014.362999</td>\n",
       "      <td>Q3</td>\n",
       "      <td>87</td>\n",
       "    </tr>\n",
       "    <tr>\n",
       "      <th>7</th>\n",
       "      <td>Q4_87</td>\n",
       "      <td>1991.746998</td>\n",
       "      <td>Q4</td>\n",
       "      <td>87</td>\n",
       "    </tr>\n",
       "    <tr>\n",
       "      <th>8</th>\n",
       "      <td>Q1_88</td>\n",
       "      <td>1869.049999</td>\n",
       "      <td>Q1</td>\n",
       "      <td>88</td>\n",
       "    </tr>\n",
       "    <tr>\n",
       "      <th>9</th>\n",
       "      <td>Q2_88</td>\n",
       "      <td>2313.631996</td>\n",
       "      <td>Q2</td>\n",
       "      <td>88</td>\n",
       "    </tr>\n",
       "  </tbody>\n",
       "</table>\n",
       "</div>"
      ],
      "text/plain": [
       "  Quarter        Sales Quarters Year\n",
       "0   Q1_86  1734.827000       Q1   86\n",
       "1   Q2_86  2244.960999       Q2   86\n",
       "2   Q3_86  2533.804993       Q3   86\n",
       "3   Q4_86  2154.962997       Q4   86\n",
       "4   Q1_87  1547.818996       Q1   87\n",
       "5   Q2_87  2104.411995       Q2   87\n",
       "6   Q3_87  2014.362999       Q3   87\n",
       "7   Q4_87  1991.746998       Q4   87\n",
       "8   Q1_88  1869.049999       Q1   88\n",
       "9   Q2_88  2313.631996       Q2   88"
      ]
     },
     "execution_count": 7,
     "metadata": {},
     "output_type": "execute_result"
    }
   ],
   "source": [
    "coca_df.head(10)"
   ]
  },
  {
   "cell_type": "code",
   "execution_count": 8,
   "id": "0635c648",
   "metadata": {},
   "outputs": [
    {
     "data": {
      "text/html": [
       "<div>\n",
       "<style scoped>\n",
       "    .dataframe tbody tr th:only-of-type {\n",
       "        vertical-align: middle;\n",
       "    }\n",
       "\n",
       "    .dataframe tbody tr th {\n",
       "        vertical-align: top;\n",
       "    }\n",
       "\n",
       "    .dataframe thead th {\n",
       "        text-align: right;\n",
       "    }\n",
       "</style>\n",
       "<table border=\"1\" class=\"dataframe\">\n",
       "  <thead>\n",
       "    <tr style=\"text-align: right;\">\n",
       "      <th></th>\n",
       "      <th>Quarter</th>\n",
       "      <th>Sales</th>\n",
       "      <th>Quarters</th>\n",
       "      <th>Year</th>\n",
       "      <th>Q1</th>\n",
       "      <th>Q2</th>\n",
       "      <th>Q3</th>\n",
       "      <th>Q4</th>\n",
       "    </tr>\n",
       "  </thead>\n",
       "  <tbody>\n",
       "    <tr>\n",
       "      <th>0</th>\n",
       "      <td>Q1_86</td>\n",
       "      <td>1734.827000</td>\n",
       "      <td>Q1</td>\n",
       "      <td>86</td>\n",
       "      <td>1</td>\n",
       "      <td>0</td>\n",
       "      <td>0</td>\n",
       "      <td>0</td>\n",
       "    </tr>\n",
       "    <tr>\n",
       "      <th>1</th>\n",
       "      <td>Q2_86</td>\n",
       "      <td>2244.960999</td>\n",
       "      <td>Q2</td>\n",
       "      <td>86</td>\n",
       "      <td>0</td>\n",
       "      <td>1</td>\n",
       "      <td>0</td>\n",
       "      <td>0</td>\n",
       "    </tr>\n",
       "    <tr>\n",
       "      <th>2</th>\n",
       "      <td>Q3_86</td>\n",
       "      <td>2533.804993</td>\n",
       "      <td>Q3</td>\n",
       "      <td>86</td>\n",
       "      <td>0</td>\n",
       "      <td>0</td>\n",
       "      <td>1</td>\n",
       "      <td>0</td>\n",
       "    </tr>\n",
       "    <tr>\n",
       "      <th>3</th>\n",
       "      <td>Q4_86</td>\n",
       "      <td>2154.962997</td>\n",
       "      <td>Q4</td>\n",
       "      <td>86</td>\n",
       "      <td>0</td>\n",
       "      <td>0</td>\n",
       "      <td>0</td>\n",
       "      <td>1</td>\n",
       "    </tr>\n",
       "    <tr>\n",
       "      <th>4</th>\n",
       "      <td>Q1_87</td>\n",
       "      <td>1547.818996</td>\n",
       "      <td>Q1</td>\n",
       "      <td>87</td>\n",
       "      <td>1</td>\n",
       "      <td>0</td>\n",
       "      <td>0</td>\n",
       "      <td>0</td>\n",
       "    </tr>\n",
       "  </tbody>\n",
       "</table>\n",
       "</div>"
      ],
      "text/plain": [
       "  Quarter        Sales Quarters Year  Q1  Q2  Q3  Q4\n",
       "0   Q1_86  1734.827000       Q1   86   1   0   0   0\n",
       "1   Q2_86  2244.960999       Q2   86   0   1   0   0\n",
       "2   Q3_86  2533.804993       Q3   86   0   0   1   0\n",
       "3   Q4_86  2154.962997       Q4   86   0   0   0   1\n",
       "4   Q1_87  1547.818996       Q1   87   1   0   0   0"
      ]
     },
     "execution_count": 8,
     "metadata": {},
     "output_type": "execute_result"
    }
   ],
   "source": [
    "#Getting dummy variables for Q1,Q2,Q3,Q4\n",
    "quarters_dummies = pd.DataFrame(pd.get_dummies(coca_df['Quarters']))\n",
    "coca_df = pd.concat([coca_df,quarters_dummies],axis=1)\n",
    "coca_df.head()"
   ]
  },
  {
   "cell_type": "code",
   "execution_count": 9,
   "id": "fd720c99",
   "metadata": {},
   "outputs": [
    {
     "data": {
      "text/plain": [
       "<AxesSubplot:xlabel='Quarters', ylabel='Year'>"
      ]
     },
     "execution_count": 9,
     "metadata": {},
     "output_type": "execute_result"
    },
    {
     "data": {
      "image/png": "[encoded data removed]",
      "text/plain": [
       "<Figure size 864x576 with 2 Axes>"
      ]
     },
     "metadata": {
      "needs_background": "light"
     },
     "output_type": "display_data"
    }
   ],
   "source": [
    "plt.figure(figsize=(12,8))\n",
    "heatmap_y_year = pd.pivot_table(data=coca_df,values=\"Sales\",index=\"Year\",columns=\"Quarters\",fill_value=0)\n",
    "sns.heatmap(heatmap_y_year,annot=True,fmt=\"g\")"
   ]
  },
  {
   "cell_type": "code",
   "execution_count": 10,
   "id": "adcdda0b",
   "metadata": {},
   "outputs": [
    {
     "data": {
      "text/plain": [
       "<AxesSubplot:xlabel='Year', ylabel='Sales'>"
      ]
     },
     "execution_count": 10,
     "metadata": {},
     "output_type": "execute_result"
    },
    {
     "data": {
      "image/png": "[encoded data removed]",
      "text/plain": [
       "<Figure size 720x720 with 2 Axes>"
      ]
     },
     "metadata": {
      "needs_background": "light"
     },
     "output_type": "display_data"
    }
   ],
   "source": [
    "# Boxplot \n",
    "plt.figure(figsize=(10,10))\n",
    "plt.subplot(211)\n",
    "sns.boxplot(x='Quarters',y='Sales',data=coca_df)\n",
    "plt.subplot(212)\n",
    "sns.boxplot(x='Year',y='Sales', data=coca_df)"
   ]
  },
  {
   "cell_type": "code",
   "execution_count": 11,
   "id": "00b9095d",
   "metadata": {},
   "outputs": [
    {
     "data": {
      "text/plain": [
       "<AxesSubplot:>"
      ]
     },
     "execution_count": 11,
     "metadata": {},
     "output_type": "execute_result"
    },
    {
     "data": {
      "image/png": "[encoded data removed]",
      "text/plain": [
       "<Figure size 432x288 with 1 Axes>"
      ]
     },
     "metadata": {
      "needs_background": "light"
     },
     "output_type": "display_data"
    }
   ],
   "source": [
    "coca_df['Sales'].hist()"
   ]
  },
  {
   "cell_type": "code",
   "execution_count": 12,
   "id": "b7039a64",
   "metadata": {},
   "outputs": [
    {
     "data": {
      "text/plain": [
       "<AxesSubplot:>"
      ]
     },
     "execution_count": 12,
     "metadata": {},
     "output_type": "execute_result"
    },
    {
     "data": {
      "image/png": "[encoded data removed]",
      "text/plain": [
       "<Figure size 432x288 with 1 Axes>"
      ]
     },
     "metadata": {
      "needs_background": "light"
     },
     "output_type": "display_data"
    }
   ],
   "source": [
    "coca_df.Sales.plot()"
   ]
  },
  {
   "cell_type": "code",
   "execution_count": 13,
   "id": "f57bd6cc",
   "metadata": {},
   "outputs": [
    {
     "data": {
      "text/plain": [
       "<AxesSubplot:ylabel='Density'>"
      ]
     },
     "execution_count": 13,
     "metadata": {},
     "output_type": "execute_result"
    },
    {
     "data": {
      "image/png": "[encoded data removed]",
      "text/plain": [
       "<Figure size 432x288 with 1 Axes>"
      ]
     },
     "metadata": {
      "needs_background": "light"
     },
     "output_type": "display_data"
    }
   ],
   "source": [
    "coca_df['Sales'].plot(kind='kde')"
   ]
  },
  {
   "cell_type": "code",
   "execution_count": 14,
   "id": "08d710ea",
   "metadata": {},
   "outputs": [
    {
     "data": {
      "image/png": "[encoded data removed]",
      "text/plain": [
       "<Figure size 432x288 with 1 Axes>"
      ]
     },
     "metadata": {
      "needs_background": "light"
     },
     "output_type": "display_data"
    }
   ],
   "source": [
    "# create a scatter plot\n",
    "\n",
    "from pandas.plotting import lag_plot\n",
    "lag_plot(coca_df['Sales'])\n",
    "plt.show()"
   ]
  },
  {
   "cell_type": "code",
   "execution_count": null,
   "id": "c510fc47",
   "metadata": {},
   "outputs": [],
   "source": []
  },
  {
   "cell_type": "code",
   "execution_count": null,
   "id": "0a0432f9",
   "metadata": {},
   "outputs": [],
   "source": []
  },
  {
   "cell_type": "markdown",
   "id": "cbf6584d",
   "metadata": {},
   "source": [
    "# Splitting the Data"
   ]
  },
  {
   "cell_type": "code",
   "execution_count": 15,
   "id": "7e9e20f7",
   "metadata": {},
   "outputs": [],
   "source": [
    "coca_train = coca_df.head(32)\n",
    "coca_test =coca_df.tail(10)"
   ]
  },
  {
   "cell_type": "markdown",
   "id": "41f5940e",
   "metadata": {},
   "source": [
    "# Moving Average"
   ]
  },
  {
   "cell_type": "code",
   "execution_count": 16,
   "id": "eb4ad301",
   "metadata": {},
   "outputs": [],
   "source": [
    "from statsmodels.tsa.seasonal import seasonal_decompose\n",
    "from statsmodels.tsa.holtwinters import SimpleExpSmoothing,Holt,ExponentialSmoothing"
   ]
  },
  {
   "cell_type": "code",
   "execution_count": 17,
   "id": "92f6873e",
   "metadata": {},
   "outputs": [
    {
     "data": {
      "text/plain": [
       "<matplotlib.legend.Legend at 0x1ee0bbe77f0>"
      ]
     },
     "execution_count": 17,
     "metadata": {},
     "output_type": "execute_result"
    },
    {
     "data": {
      "image/png": "[encoded data removed]",
      "text/plain": [
       "<Figure size 1440x504 with 1 Axes>"
      ]
     },
     "metadata": {
      "needs_background": "light"
     },
     "output_type": "display_data"
    }
   ],
   "source": [
    "plt.figure(figsize=(20,7))\n",
    "coca_df.Sales.plot(label=\"orginal\")\n",
    "for i in range(2,24,6):\n",
    "    coca_df[\"Sales\"].rolling(i).mean().plot(label=str(i))\n",
    "plt.legend(loc='best')"
   ]
  },
  {
   "cell_type": "markdown",
   "id": "35cc6958",
   "metadata": {},
   "source": [
    "# Time series decomposition plot"
   ]
  },
  {
   "cell_type": "code",
   "execution_count": 18,
   "id": "eec2dd42",
   "metadata": {},
   "outputs": [
    {
     "data": {
      "image/png": "[encoded data removed]",
      "text/plain": [
       "<Figure size 432x288 with 4 Axes>"
      ]
     },
     "metadata": {
      "needs_background": "light"
     },
     "output_type": "display_data"
    }
   ],
   "source": [
    "decompose_ts_add = seasonal_decompose(coca_df.Sales,period=4)\n",
    "decompose_ts_add.plot()\n",
    "plt.show()"
   ]
  },
  {
   "cell_type": "markdown",
   "id": "697b7dca",
   "metadata": {},
   "source": [
    "# ACF plots and PACF plots"
   ]
  },
  {
   "cell_type": "code",
   "execution_count": 19,
   "id": "3ff12372",
   "metadata": {},
   "outputs": [
    {
     "name": "stderr",
     "output_type": "stream",
     "text": [
      "C:\\ProgramData\\Anaconda3\\lib\\site-packages\\statsmodels\\graphics\\tsaplots.py:348: FutureWarning: The default method 'yw' can produce PACF values outside of the [-1,1] interval. After 0.13, the default will change tounadjusted Yule-Walker ('ywm'). You can use this method now by setting method='ywm'.\n",
      "  warnings.warn(\n"
     ]
    },
    {
     "data": {
      "image/png": "[encoded data removed]",
      "text/plain": [
       "<Figure size 432x288 with 1 Axes>"
      ]
     },
     "metadata": {
      "needs_background": "light"
     },
     "output_type": "display_data"
    },
    {
     "data": {
      "image/png": "[encoded data removed]",
      "text/plain": [
       "<Figure size 432x288 with 1 Axes>"
      ]
     },
     "metadata": {
      "needs_background": "light"
     },
     "output_type": "display_data"
    }
   ],
   "source": [
    "import statsmodels.graphics.tsaplots as tsa_plots\n",
    "tsa_plots.plot_acf(coca_df.Sales,lags=12)\n",
    "tsa_plots.plot_pacf(coca_df.Sales,lags=12)\n",
    "plt.show()"
   ]
  },
  {
   "cell_type": "markdown",
   "id": "028497ca",
   "metadata": {},
   "source": [
    "# Evaluation Metric MAPE and RMSE"
   ]
  },
  {
   "cell_type": "code",
   "execution_count": 20,
   "id": "7011ef6f",
   "metadata": {},
   "outputs": [],
   "source": [
    "import math"
   ]
  },
  {
   "cell_type": "code",
   "execution_count": 21,
   "id": "c785c154",
   "metadata": {},
   "outputs": [],
   "source": [
    "#Root Mean Square Error\n",
    "def RMSE(pred,org):\n",
    "    MSE = np.square(np.subtract(pred,org)).mean()  \n",
    "    RMSE = math.sqrt(MSE)\n",
    "    return RMSE\n",
    "\n",
    "#Mean Absolute Percentage Error\n",
    "def MAPE(pred,org):\n",
    "    temp = np.abs((pred-org)/org)*100\n",
    "    return np.mean(temp)"
   ]
  },
  {
   "cell_type": "markdown",
   "id": "09612d1f",
   "metadata": {},
   "source": [
    "# Simple Exponential Method"
   ]
  },
  {
   "cell_type": "code",
   "execution_count": 22,
   "id": "b3759df6",
   "metadata": {},
   "outputs": [
    {
     "data": {
      "text/plain": [
       "22.724051812293908"
      ]
     },
     "execution_count": 22,
     "metadata": {},
     "output_type": "execute_result"
    }
   ],
   "source": [
    "ses_model = SimpleExpSmoothing(coca_train[\"Sales\"]).fit(smoothing_level=0.2)\n",
    "pred_ses = ses_model.predict(start = coca_test.index[0],end = coca_test.index[-1])\n",
    "MAPE(pred_ses,coca_test.Sales) "
   ]
  },
  {
   "cell_type": "code",
   "execution_count": 23,
   "id": "554b9238",
   "metadata": {},
   "outputs": [
    {
     "data": {
      "text/plain": [
       "1172.175645764459"
      ]
     },
     "execution_count": 23,
     "metadata": {},
     "output_type": "execute_result"
    }
   ],
   "source": [
    "RMSE(pred_ses,coca_test.Sales) "
   ]
  },
  {
   "cell_type": "markdown",
   "id": "c4e875f5",
   "metadata": {},
   "source": [
    "# Holt method "
   ]
  },
  {
   "cell_type": "code",
   "execution_count": 24,
   "id": "ff4671d9",
   "metadata": {},
   "outputs": [
    {
     "name": "stderr",
     "output_type": "stream",
     "text": [
      "C:\\Users\\Vaibhavi\\AppData\\Local\\Temp\\ipykernel_11760\\3555206388.py:2: FutureWarning: the 'smoothing_slope'' keyword is deprecated, use 'smoothing_trend' instead.\n",
      "  hw_model = Holt(coca_train[\"Sales\"]).fit(smoothing_level=0.8, smoothing_slope=0.2)\n"
     ]
    },
    {
     "data": {
      "text/plain": [
       "16.720651186614596"
      ]
     },
     "execution_count": 24,
     "metadata": {},
     "output_type": "execute_result"
    }
   ],
   "source": [
    "# Holt method \n",
    "hw_model = Holt(coca_train[\"Sales\"]).fit(smoothing_level=0.8, smoothing_slope=0.2)\n",
    "pred_hw = hw_model.predict(start = coca_test.index[0],end = coca_test.index[-1])\n",
    "MAPE(pred_hw,coca_test.Sales) "
   ]
  },
  {
   "cell_type": "code",
   "execution_count": 25,
   "id": "88d860cf",
   "metadata": {},
   "outputs": [
    {
     "data": {
      "text/plain": [
       "888.7798745682837"
      ]
     },
     "execution_count": 25,
     "metadata": {},
     "output_type": "execute_result"
    }
   ],
   "source": [
    "RMSE(pred_hw,coca_test.Sales) "
   ]
  },
  {
   "cell_type": "markdown",
   "id": "bc8cec4c",
   "metadata": {},
   "source": [
    "# Holts winter exponential smoothing with additive seasonality and additive trend"
   ]
  },
  {
   "cell_type": "code",
   "execution_count": 26,
   "id": "465c8123",
   "metadata": {},
   "outputs": [
    {
     "data": {
      "text/plain": [
       "12.238699821765515"
      ]
     },
     "execution_count": 26,
     "metadata": {},
     "output_type": "execute_result"
    }
   ],
   "source": [
    "hwe_model_add_add = ExponentialSmoothing(coca_train[\"Sales\"],seasonal=\"add\",trend=\"add\",\n",
    "                                         seasonal_periods=4).fit() #add the trend to the model\n",
    "pred_hwe_add_add = hwe_model_add_add.predict(start = coca_test.index[0],end = coca_test.index[-1])\n",
    "MAPE(pred_hwe_add_add,coca_test.Sales) "
   ]
  },
  {
   "cell_type": "code",
   "execution_count": 27,
   "id": "fee255f0",
   "metadata": {},
   "outputs": [
    {
     "data": {
      "text/plain": [
       "610.227144270313"
      ]
     },
     "execution_count": 27,
     "metadata": {},
     "output_type": "execute_result"
    }
   ],
   "source": [
    "RMSE(pred_hwe_add_add,coca_test.Sales) "
   ]
  },
  {
   "cell_type": "markdown",
   "id": "7a2758a0",
   "metadata": {},
   "source": [
    "# Holts winter exponential smoothing with multiplicative seasonality and additive trend"
   ]
  },
  {
   "cell_type": "code",
   "execution_count": 28,
   "id": "7c92fa2b",
   "metadata": {},
   "outputs": [
    {
     "data": {
      "text/plain": [
       "12.198749596135075"
      ]
     },
     "execution_count": 28,
     "metadata": {},
     "output_type": "execute_result"
    }
   ],
   "source": [
    "hwe_model_mul_add = ExponentialSmoothing(coca_train[\"Sales\"],seasonal=\"mul\",trend=\"add\",\n",
    "                                         seasonal_periods=4).fit() \n",
    "pred_hwe_mul_add = hwe_model_mul_add.predict(start = coca_test.index[0],end = coca_test.index[-1])\n",
    "MAPE(pred_hwe_mul_add,coca_test.Sales)"
   ]
  },
  {
   "cell_type": "code",
   "execution_count": 29,
   "id": "56e4e6d8",
   "metadata": {},
   "outputs": [
    {
     "data": {
      "text/plain": [
       "569.0540408448411"
      ]
     },
     "execution_count": 29,
     "metadata": {},
     "output_type": "execute_result"
    }
   ],
   "source": [
    "RMSE(pred_hwe_mul_add,coca_test.Sales)"
   ]
  },
  {
   "cell_type": "markdown",
   "id": "b3b022ff",
   "metadata": {},
   "source": [
    "# Final Model by combining train and test"
   ]
  },
  {
   "cell_type": "code",
   "execution_count": 30,
   "id": "b416c121",
   "metadata": {},
   "outputs": [],
   "source": [
    "hwe_model_mul_add = ExponentialSmoothing(coca_df[\"Sales\"],seasonal=\"mul\",trend=\"add\",\n",
    "                                         seasonal_periods=4).fit()"
   ]
  },
  {
   "cell_type": "code",
   "execution_count": 31,
   "id": "74f4d2dc",
   "metadata": {},
   "outputs": [
    {
     "data": {
      "text/plain": [
       "42    5210.523237\n",
       "43    4772.600600\n",
       "44    4517.616864\n",
       "45    5694.128928\n",
       "46    5628.160583\n",
       "47    5147.622526\n",
       "48    4865.763475\n",
       "49    6124.648114\n",
       "50    6045.797928\n",
       "51    5522.644451\n",
       "dtype: float64"
      ]
     },
     "execution_count": 31,
     "metadata": {},
     "output_type": "execute_result"
    }
   ],
   "source": [
    "pass_predicted=hwe_model_mul_add.forecast(10)\n",
    "pass_predicted"
   ]
  },
  {
   "cell_type": "markdown",
   "id": "beee975f",
   "metadata": {},
   "source": [
    "# Forecasting using SARIMA Model(Seasonal ARIMA) "
   ]
  },
  {
   "cell_type": "code",
   "execution_count": 32,
   "id": "cdb89e11",
   "metadata": {},
   "outputs": [],
   "source": [
    "### Testing For Stationarity\n",
    "\n",
    "from statsmodels.tsa.stattools import adfuller"
   ]
  },
  {
   "cell_type": "code",
   "execution_count": 33,
   "id": "0d6be188",
   "metadata": {},
   "outputs": [],
   "source": [
    "test_result=adfuller(coca_df['Sales'])"
   ]
  },
  {
   "cell_type": "code",
   "execution_count": 34,
   "id": "02f1d42b",
   "metadata": {},
   "outputs": [],
   "source": [
    "#Ho: It is non stationary\n",
    "#H1: It is stationary\n",
    "\n",
    "def adfuller_test(sales):\n",
    "    result=adfuller(sales)\n",
    "    labels = ['ADF Test Statistic','p-value','#Lags Used','Number of Observations Used']\n",
    "    for value,label in zip(result,labels):\n",
    "        print(label+' : '+str(value) )\n",
    "    if result[1] <= 0.05:\n",
    "        print(\"strong evidence against the null hypothesis(Ho), reject the null hypothesis. Data has no unit root and is stationary\")\n",
    "    else:\n",
    "        print(\"weak evidence against null hypothesis, time series has a unit root, indicating it is non-stationary \")\n",
    "    "
   ]
  },
  {
   "cell_type": "code",
   "execution_count": 35,
   "id": "14472b48",
   "metadata": {},
   "outputs": [
    {
     "name": "stdout",
     "output_type": "stream",
     "text": [
      "ADF Test Statistic : 1.3094210153268104\n",
      "p-value : 0.9966611673930905\n",
      "#Lags Used : 7\n",
      "Number of Observations Used : 34\n",
      "weak evidence against null hypothesis, time series has a unit root, indicating it is non-stationary \n"
     ]
    }
   ],
   "source": [
    "adfuller_test(coca_df['Sales'])"
   ]
  },
  {
   "cell_type": "code",
   "execution_count": 36,
   "id": "c5bc5c5b",
   "metadata": {},
   "outputs": [
    {
     "data": {
      "text/plain": [
       "<AxesSubplot:>"
      ]
     },
     "execution_count": 36,
     "metadata": {},
     "output_type": "execute_result"
    },
    {
     "data": {
      "image/png": "[encoded data removed]",
      "text/plain": [
       "<Figure size 432x288 with 1 Axes>"
      ]
     },
     "metadata": {
      "needs_background": "light"
     },
     "output_type": "display_data"
    }
   ],
   "source": [
    "coca_df['Sales'].plot()"
   ]
  },
  {
   "cell_type": "code",
   "execution_count": 37,
   "id": "fa486aaf",
   "metadata": {},
   "outputs": [
    {
     "data": {
      "text/html": [
       "<div>\n",
       "<style scoped>\n",
       "    .dataframe tbody tr th:only-of-type {\n",
       "        vertical-align: middle;\n",
       "    }\n",
       "\n",
       "    .dataframe tbody tr th {\n",
       "        vertical-align: top;\n",
       "    }\n",
       "\n",
       "    .dataframe thead th {\n",
       "        text-align: right;\n",
       "    }\n",
       "</style>\n",
       "<table border=\"1\" class=\"dataframe\">\n",
       "  <thead>\n",
       "    <tr style=\"text-align: right;\">\n",
       "      <th></th>\n",
       "      <th>Quarter</th>\n",
       "      <th>Sales</th>\n",
       "      <th>Quarters</th>\n",
       "      <th>Year</th>\n",
       "      <th>Q1</th>\n",
       "      <th>Q2</th>\n",
       "      <th>Q3</th>\n",
       "      <th>Q4</th>\n",
       "    </tr>\n",
       "  </thead>\n",
       "  <tbody>\n",
       "    <tr>\n",
       "      <th>0</th>\n",
       "      <td>Q1_86</td>\n",
       "      <td>1734.827000</td>\n",
       "      <td>Q1</td>\n",
       "      <td>86</td>\n",
       "      <td>1</td>\n",
       "      <td>0</td>\n",
       "      <td>0</td>\n",
       "      <td>0</td>\n",
       "    </tr>\n",
       "    <tr>\n",
       "      <th>1</th>\n",
       "      <td>Q2_86</td>\n",
       "      <td>2244.960999</td>\n",
       "      <td>Q2</td>\n",
       "      <td>86</td>\n",
       "      <td>0</td>\n",
       "      <td>1</td>\n",
       "      <td>0</td>\n",
       "      <td>0</td>\n",
       "    </tr>\n",
       "    <tr>\n",
       "      <th>2</th>\n",
       "      <td>Q3_86</td>\n",
       "      <td>2533.804993</td>\n",
       "      <td>Q3</td>\n",
       "      <td>86</td>\n",
       "      <td>0</td>\n",
       "      <td>0</td>\n",
       "      <td>1</td>\n",
       "      <td>0</td>\n",
       "    </tr>\n",
       "    <tr>\n",
       "      <th>3</th>\n",
       "      <td>Q4_86</td>\n",
       "      <td>2154.962997</td>\n",
       "      <td>Q4</td>\n",
       "      <td>86</td>\n",
       "      <td>0</td>\n",
       "      <td>0</td>\n",
       "      <td>0</td>\n",
       "      <td>1</td>\n",
       "    </tr>\n",
       "    <tr>\n",
       "      <th>4</th>\n",
       "      <td>Q1_87</td>\n",
       "      <td>1547.818996</td>\n",
       "      <td>Q1</td>\n",
       "      <td>87</td>\n",
       "      <td>1</td>\n",
       "      <td>0</td>\n",
       "      <td>0</td>\n",
       "      <td>0</td>\n",
       "    </tr>\n",
       "    <tr>\n",
       "      <th>5</th>\n",
       "      <td>Q2_87</td>\n",
       "      <td>2104.411995</td>\n",
       "      <td>Q2</td>\n",
       "      <td>87</td>\n",
       "      <td>0</td>\n",
       "      <td>1</td>\n",
       "      <td>0</td>\n",
       "      <td>0</td>\n",
       "    </tr>\n",
       "    <tr>\n",
       "      <th>6</th>\n",
       "      <td>Q3_87</td>\n",
       "      <td>2014.362999</td>\n",
       "      <td>Q3</td>\n",
       "      <td>87</td>\n",
       "      <td>0</td>\n",
       "      <td>0</td>\n",
       "      <td>1</td>\n",
       "      <td>0</td>\n",
       "    </tr>\n",
       "    <tr>\n",
       "      <th>7</th>\n",
       "      <td>Q4_87</td>\n",
       "      <td>1991.746998</td>\n",
       "      <td>Q4</td>\n",
       "      <td>87</td>\n",
       "      <td>0</td>\n",
       "      <td>0</td>\n",
       "      <td>0</td>\n",
       "      <td>1</td>\n",
       "    </tr>\n",
       "  </tbody>\n",
       "</table>\n",
       "</div>"
      ],
      "text/plain": [
       "  Quarter        Sales Quarters Year  Q1  Q2  Q3  Q4\n",
       "0   Q1_86  1734.827000       Q1   86   1   0   0   0\n",
       "1   Q2_86  2244.960999       Q2   86   0   1   0   0\n",
       "2   Q3_86  2533.804993       Q3   86   0   0   1   0\n",
       "3   Q4_86  2154.962997       Q4   86   0   0   0   1\n",
       "4   Q1_87  1547.818996       Q1   87   1   0   0   0\n",
       "5   Q2_87  2104.411995       Q2   87   0   1   0   0\n",
       "6   Q3_87  2014.362999       Q3   87   0   0   1   0\n",
       "7   Q4_87  1991.746998       Q4   87   0   0   0   1"
      ]
     },
     "execution_count": 37,
     "metadata": {},
     "output_type": "execute_result"
    }
   ],
   "source": [
    "coca_df.head(8)"
   ]
  },
  {
   "cell_type": "markdown",
   "id": "ed86740d",
   "metadata": {},
   "source": [
    "***So,given time series is not sationary and also seasonal.We can see similar pattern is reapeating quaterly(4 months)***"
   ]
  },
  {
   "cell_type": "code",
   "execution_count": 38,
   "id": "9ec2cb7b",
   "metadata": {},
   "outputs": [],
   "source": [
    "coca_df['Seasonal First Difference']=coca_df['Sales']-coca_df['Sales'].shift(4)"
   ]
  },
  {
   "cell_type": "code",
   "execution_count": 39,
   "id": "d7203b79",
   "metadata": {},
   "outputs": [
    {
     "data": {
      "text/html": [
       "<div>\n",
       "<style scoped>\n",
       "    .dataframe tbody tr th:only-of-type {\n",
       "        vertical-align: middle;\n",
       "    }\n",
       "\n",
       "    .dataframe tbody tr th {\n",
       "        vertical-align: top;\n",
       "    }\n",
       "\n",
       "    .dataframe thead th {\n",
       "        text-align: right;\n",
       "    }\n",
       "</style>\n",
       "<table border=\"1\" class=\"dataframe\">\n",
       "  <thead>\n",
       "    <tr style=\"text-align: right;\">\n",
       "      <th></th>\n",
       "      <th>Quarter</th>\n",
       "      <th>Sales</th>\n",
       "      <th>Quarters</th>\n",
       "      <th>Year</th>\n",
       "      <th>Q1</th>\n",
       "      <th>Q2</th>\n",
       "      <th>Q3</th>\n",
       "      <th>Q4</th>\n",
       "      <th>Seasonal First Difference</th>\n",
       "    </tr>\n",
       "  </thead>\n",
       "  <tbody>\n",
       "    <tr>\n",
       "      <th>0</th>\n",
       "      <td>Q1_86</td>\n",
       "      <td>1734.827000</td>\n",
       "      <td>Q1</td>\n",
       "      <td>86</td>\n",
       "      <td>1</td>\n",
       "      <td>0</td>\n",
       "      <td>0</td>\n",
       "      <td>0</td>\n",
       "      <td>NaN</td>\n",
       "    </tr>\n",
       "    <tr>\n",
       "      <th>1</th>\n",
       "      <td>Q2_86</td>\n",
       "      <td>2244.960999</td>\n",
       "      <td>Q2</td>\n",
       "      <td>86</td>\n",
       "      <td>0</td>\n",
       "      <td>1</td>\n",
       "      <td>0</td>\n",
       "      <td>0</td>\n",
       "      <td>NaN</td>\n",
       "    </tr>\n",
       "    <tr>\n",
       "      <th>2</th>\n",
       "      <td>Q3_86</td>\n",
       "      <td>2533.804993</td>\n",
       "      <td>Q3</td>\n",
       "      <td>86</td>\n",
       "      <td>0</td>\n",
       "      <td>0</td>\n",
       "      <td>1</td>\n",
       "      <td>0</td>\n",
       "      <td>NaN</td>\n",
       "    </tr>\n",
       "    <tr>\n",
       "      <th>3</th>\n",
       "      <td>Q4_86</td>\n",
       "      <td>2154.962997</td>\n",
       "      <td>Q4</td>\n",
       "      <td>86</td>\n",
       "      <td>0</td>\n",
       "      <td>0</td>\n",
       "      <td>0</td>\n",
       "      <td>1</td>\n",
       "      <td>NaN</td>\n",
       "    </tr>\n",
       "    <tr>\n",
       "      <th>4</th>\n",
       "      <td>Q1_87</td>\n",
       "      <td>1547.818996</td>\n",
       "      <td>Q1</td>\n",
       "      <td>87</td>\n",
       "      <td>1</td>\n",
       "      <td>0</td>\n",
       "      <td>0</td>\n",
       "      <td>0</td>\n",
       "      <td>-187.008003</td>\n",
       "    </tr>\n",
       "    <tr>\n",
       "      <th>5</th>\n",
       "      <td>Q2_87</td>\n",
       "      <td>2104.411995</td>\n",
       "      <td>Q2</td>\n",
       "      <td>87</td>\n",
       "      <td>0</td>\n",
       "      <td>1</td>\n",
       "      <td>0</td>\n",
       "      <td>0</td>\n",
       "      <td>-140.549004</td>\n",
       "    </tr>\n",
       "    <tr>\n",
       "      <th>6</th>\n",
       "      <td>Q3_87</td>\n",
       "      <td>2014.362999</td>\n",
       "      <td>Q3</td>\n",
       "      <td>87</td>\n",
       "      <td>0</td>\n",
       "      <td>0</td>\n",
       "      <td>1</td>\n",
       "      <td>0</td>\n",
       "      <td>-519.441994</td>\n",
       "    </tr>\n",
       "    <tr>\n",
       "      <th>7</th>\n",
       "      <td>Q4_87</td>\n",
       "      <td>1991.746998</td>\n",
       "      <td>Q4</td>\n",
       "      <td>87</td>\n",
       "      <td>0</td>\n",
       "      <td>0</td>\n",
       "      <td>0</td>\n",
       "      <td>1</td>\n",
       "      <td>-163.216000</td>\n",
       "    </tr>\n",
       "    <tr>\n",
       "      <th>8</th>\n",
       "      <td>Q1_88</td>\n",
       "      <td>1869.049999</td>\n",
       "      <td>Q1</td>\n",
       "      <td>88</td>\n",
       "      <td>1</td>\n",
       "      <td>0</td>\n",
       "      <td>0</td>\n",
       "      <td>0</td>\n",
       "      <td>321.231003</td>\n",
       "    </tr>\n",
       "    <tr>\n",
       "      <th>9</th>\n",
       "      <td>Q2_88</td>\n",
       "      <td>2313.631996</td>\n",
       "      <td>Q2</td>\n",
       "      <td>88</td>\n",
       "      <td>0</td>\n",
       "      <td>1</td>\n",
       "      <td>0</td>\n",
       "      <td>0</td>\n",
       "      <td>209.220001</td>\n",
       "    </tr>\n",
       "    <tr>\n",
       "      <th>10</th>\n",
       "      <td>Q3_88</td>\n",
       "      <td>2128.320000</td>\n",
       "      <td>Q3</td>\n",
       "      <td>88</td>\n",
       "      <td>0</td>\n",
       "      <td>0</td>\n",
       "      <td>1</td>\n",
       "      <td>0</td>\n",
       "      <td>113.957001</td>\n",
       "    </tr>\n",
       "    <tr>\n",
       "      <th>11</th>\n",
       "      <td>Q4_88</td>\n",
       "      <td>2026.828999</td>\n",
       "      <td>Q4</td>\n",
       "      <td>88</td>\n",
       "      <td>0</td>\n",
       "      <td>0</td>\n",
       "      <td>0</td>\n",
       "      <td>1</td>\n",
       "      <td>35.082001</td>\n",
       "    </tr>\n",
       "    <tr>\n",
       "      <th>12</th>\n",
       "      <td>Q1_89</td>\n",
       "      <td>1910.603996</td>\n",
       "      <td>Q1</td>\n",
       "      <td>89</td>\n",
       "      <td>1</td>\n",
       "      <td>0</td>\n",
       "      <td>0</td>\n",
       "      <td>0</td>\n",
       "      <td>41.553997</td>\n",
       "    </tr>\n",
       "    <tr>\n",
       "      <th>13</th>\n",
       "      <td>Q2_89</td>\n",
       "      <td>2331.164993</td>\n",
       "      <td>Q2</td>\n",
       "      <td>89</td>\n",
       "      <td>0</td>\n",
       "      <td>1</td>\n",
       "      <td>0</td>\n",
       "      <td>0</td>\n",
       "      <td>17.532997</td>\n",
       "    </tr>\n",
       "    <tr>\n",
       "      <th>14</th>\n",
       "      <td>Q3_89</td>\n",
       "      <td>2206.549995</td>\n",
       "      <td>Q3</td>\n",
       "      <td>89</td>\n",
       "      <td>0</td>\n",
       "      <td>0</td>\n",
       "      <td>1</td>\n",
       "      <td>0</td>\n",
       "      <td>78.229996</td>\n",
       "    </tr>\n",
       "    <tr>\n",
       "      <th>15</th>\n",
       "      <td>Q4_89</td>\n",
       "      <td>2173.967995</td>\n",
       "      <td>Q4</td>\n",
       "      <td>89</td>\n",
       "      <td>0</td>\n",
       "      <td>0</td>\n",
       "      <td>0</td>\n",
       "      <td>1</td>\n",
       "      <td>147.138996</td>\n",
       "    </tr>\n",
       "    <tr>\n",
       "      <th>16</th>\n",
       "      <td>Q1_90</td>\n",
       "      <td>2148.278000</td>\n",
       "      <td>Q1</td>\n",
       "      <td>90</td>\n",
       "      <td>1</td>\n",
       "      <td>0</td>\n",
       "      <td>0</td>\n",
       "      <td>0</td>\n",
       "      <td>237.674004</td>\n",
       "    </tr>\n",
       "    <tr>\n",
       "      <th>17</th>\n",
       "      <td>Q2_90</td>\n",
       "      <td>2739.307999</td>\n",
       "      <td>Q2</td>\n",
       "      <td>90</td>\n",
       "      <td>0</td>\n",
       "      <td>1</td>\n",
       "      <td>0</td>\n",
       "      <td>0</td>\n",
       "      <td>408.143005</td>\n",
       "    </tr>\n",
       "    <tr>\n",
       "      <th>18</th>\n",
       "      <td>Q3_90</td>\n",
       "      <td>2792.753998</td>\n",
       "      <td>Q3</td>\n",
       "      <td>90</td>\n",
       "      <td>0</td>\n",
       "      <td>0</td>\n",
       "      <td>1</td>\n",
       "      <td>0</td>\n",
       "      <td>586.204002</td>\n",
       "    </tr>\n",
       "    <tr>\n",
       "      <th>19</th>\n",
       "      <td>Q4_90</td>\n",
       "      <td>2556.009995</td>\n",
       "      <td>Q4</td>\n",
       "      <td>90</td>\n",
       "      <td>0</td>\n",
       "      <td>0</td>\n",
       "      <td>0</td>\n",
       "      <td>1</td>\n",
       "      <td>382.042000</td>\n",
       "    </tr>\n",
       "    <tr>\n",
       "      <th>20</th>\n",
       "      <td>Q1_91</td>\n",
       "      <td>2480.973999</td>\n",
       "      <td>Q1</td>\n",
       "      <td>91</td>\n",
       "      <td>1</td>\n",
       "      <td>0</td>\n",
       "      <td>0</td>\n",
       "      <td>0</td>\n",
       "      <td>332.695999</td>\n",
       "    </tr>\n",
       "    <tr>\n",
       "      <th>21</th>\n",
       "      <td>Q2_91</td>\n",
       "      <td>3039.522995</td>\n",
       "      <td>Q2</td>\n",
       "      <td>91</td>\n",
       "      <td>0</td>\n",
       "      <td>1</td>\n",
       "      <td>0</td>\n",
       "      <td>0</td>\n",
       "      <td>300.214996</td>\n",
       "    </tr>\n",
       "    <tr>\n",
       "      <th>22</th>\n",
       "      <td>Q3_91</td>\n",
       "      <td>3172.115997</td>\n",
       "      <td>Q3</td>\n",
       "      <td>91</td>\n",
       "      <td>0</td>\n",
       "      <td>0</td>\n",
       "      <td>1</td>\n",
       "      <td>0</td>\n",
       "      <td>379.362000</td>\n",
       "    </tr>\n",
       "    <tr>\n",
       "      <th>23</th>\n",
       "      <td>Q4_91</td>\n",
       "      <td>2879.000999</td>\n",
       "      <td>Q4</td>\n",
       "      <td>91</td>\n",
       "      <td>0</td>\n",
       "      <td>0</td>\n",
       "      <td>0</td>\n",
       "      <td>1</td>\n",
       "      <td>322.991005</td>\n",
       "    </tr>\n",
       "    <tr>\n",
       "      <th>24</th>\n",
       "      <td>Q1_92</td>\n",
       "      <td>2772.000000</td>\n",
       "      <td>Q1</td>\n",
       "      <td>92</td>\n",
       "      <td>1</td>\n",
       "      <td>0</td>\n",
       "      <td>0</td>\n",
       "      <td>0</td>\n",
       "      <td>291.026001</td>\n",
       "    </tr>\n",
       "    <tr>\n",
       "      <th>25</th>\n",
       "      <td>Q2_92</td>\n",
       "      <td>3550.000000</td>\n",
       "      <td>Q2</td>\n",
       "      <td>92</td>\n",
       "      <td>0</td>\n",
       "      <td>1</td>\n",
       "      <td>0</td>\n",
       "      <td>0</td>\n",
       "      <td>510.477005</td>\n",
       "    </tr>\n",
       "    <tr>\n",
       "      <th>26</th>\n",
       "      <td>Q3_92</td>\n",
       "      <td>3508.000000</td>\n",
       "      <td>Q3</td>\n",
       "      <td>92</td>\n",
       "      <td>0</td>\n",
       "      <td>0</td>\n",
       "      <td>1</td>\n",
       "      <td>0</td>\n",
       "      <td>335.884003</td>\n",
       "    </tr>\n",
       "    <tr>\n",
       "      <th>27</th>\n",
       "      <td>Q4_92</td>\n",
       "      <td>3243.859993</td>\n",
       "      <td>Q4</td>\n",
       "      <td>92</td>\n",
       "      <td>0</td>\n",
       "      <td>0</td>\n",
       "      <td>0</td>\n",
       "      <td>1</td>\n",
       "      <td>364.858994</td>\n",
       "    </tr>\n",
       "    <tr>\n",
       "      <th>28</th>\n",
       "      <td>Q1_93</td>\n",
       "      <td>3056.000000</td>\n",
       "      <td>Q1</td>\n",
       "      <td>93</td>\n",
       "      <td>1</td>\n",
       "      <td>0</td>\n",
       "      <td>0</td>\n",
       "      <td>0</td>\n",
       "      <td>284.000000</td>\n",
       "    </tr>\n",
       "    <tr>\n",
       "      <th>29</th>\n",
       "      <td>Q2_93</td>\n",
       "      <td>3899.000000</td>\n",
       "      <td>Q2</td>\n",
       "      <td>93</td>\n",
       "      <td>0</td>\n",
       "      <td>1</td>\n",
       "      <td>0</td>\n",
       "      <td>0</td>\n",
       "      <td>349.000000</td>\n",
       "    </tr>\n",
       "    <tr>\n",
       "      <th>30</th>\n",
       "      <td>Q3_93</td>\n",
       "      <td>3629.000000</td>\n",
       "      <td>Q3</td>\n",
       "      <td>93</td>\n",
       "      <td>0</td>\n",
       "      <td>0</td>\n",
       "      <td>1</td>\n",
       "      <td>0</td>\n",
       "      <td>121.000000</td>\n",
       "    </tr>\n",
       "    <tr>\n",
       "      <th>31</th>\n",
       "      <td>Q4_93</td>\n",
       "      <td>3373.000000</td>\n",
       "      <td>Q4</td>\n",
       "      <td>93</td>\n",
       "      <td>0</td>\n",
       "      <td>0</td>\n",
       "      <td>0</td>\n",
       "      <td>1</td>\n",
       "      <td>129.140007</td>\n",
       "    </tr>\n",
       "    <tr>\n",
       "      <th>32</th>\n",
       "      <td>Q1_94</td>\n",
       "      <td>3352.000000</td>\n",
       "      <td>Q1</td>\n",
       "      <td>94</td>\n",
       "      <td>1</td>\n",
       "      <td>0</td>\n",
       "      <td>0</td>\n",
       "      <td>0</td>\n",
       "      <td>296.000000</td>\n",
       "    </tr>\n",
       "    <tr>\n",
       "      <th>33</th>\n",
       "      <td>Q2_94</td>\n",
       "      <td>4342.000000</td>\n",
       "      <td>Q2</td>\n",
       "      <td>94</td>\n",
       "      <td>0</td>\n",
       "      <td>1</td>\n",
       "      <td>0</td>\n",
       "      <td>0</td>\n",
       "      <td>443.000000</td>\n",
       "    </tr>\n",
       "    <tr>\n",
       "      <th>34</th>\n",
       "      <td>Q3_94</td>\n",
       "      <td>4461.000000</td>\n",
       "      <td>Q3</td>\n",
       "      <td>94</td>\n",
       "      <td>0</td>\n",
       "      <td>0</td>\n",
       "      <td>1</td>\n",
       "      <td>0</td>\n",
       "      <td>832.000000</td>\n",
       "    </tr>\n",
       "    <tr>\n",
       "      <th>35</th>\n",
       "      <td>Q4_94</td>\n",
       "      <td>4017.000000</td>\n",
       "      <td>Q4</td>\n",
       "      <td>94</td>\n",
       "      <td>0</td>\n",
       "      <td>0</td>\n",
       "      <td>0</td>\n",
       "      <td>1</td>\n",
       "      <td>644.000000</td>\n",
       "    </tr>\n",
       "    <tr>\n",
       "      <th>36</th>\n",
       "      <td>Q1_95</td>\n",
       "      <td>3854.000000</td>\n",
       "      <td>Q1</td>\n",
       "      <td>95</td>\n",
       "      <td>1</td>\n",
       "      <td>0</td>\n",
       "      <td>0</td>\n",
       "      <td>0</td>\n",
       "      <td>502.000000</td>\n",
       "    </tr>\n",
       "    <tr>\n",
       "      <th>37</th>\n",
       "      <td>Q2_95</td>\n",
       "      <td>4936.000000</td>\n",
       "      <td>Q2</td>\n",
       "      <td>95</td>\n",
       "      <td>0</td>\n",
       "      <td>1</td>\n",
       "      <td>0</td>\n",
       "      <td>0</td>\n",
       "      <td>594.000000</td>\n",
       "    </tr>\n",
       "    <tr>\n",
       "      <th>38</th>\n",
       "      <td>Q3_95</td>\n",
       "      <td>4895.000000</td>\n",
       "      <td>Q3</td>\n",
       "      <td>95</td>\n",
       "      <td>0</td>\n",
       "      <td>0</td>\n",
       "      <td>1</td>\n",
       "      <td>0</td>\n",
       "      <td>434.000000</td>\n",
       "    </tr>\n",
       "    <tr>\n",
       "      <th>39</th>\n",
       "      <td>Q4_95</td>\n",
       "      <td>4333.000000</td>\n",
       "      <td>Q4</td>\n",
       "      <td>95</td>\n",
       "      <td>0</td>\n",
       "      <td>0</td>\n",
       "      <td>0</td>\n",
       "      <td>1</td>\n",
       "      <td>316.000000</td>\n",
       "    </tr>\n",
       "    <tr>\n",
       "      <th>40</th>\n",
       "      <td>Q1_96</td>\n",
       "      <td>4194.000000</td>\n",
       "      <td>Q1</td>\n",
       "      <td>96</td>\n",
       "      <td>1</td>\n",
       "      <td>0</td>\n",
       "      <td>0</td>\n",
       "      <td>0</td>\n",
       "      <td>340.000000</td>\n",
       "    </tr>\n",
       "    <tr>\n",
       "      <th>41</th>\n",
       "      <td>Q2_96</td>\n",
       "      <td>5253.000000</td>\n",
       "      <td>Q2</td>\n",
       "      <td>96</td>\n",
       "      <td>0</td>\n",
       "      <td>1</td>\n",
       "      <td>0</td>\n",
       "      <td>0</td>\n",
       "      <td>317.000000</td>\n",
       "    </tr>\n",
       "  </tbody>\n",
       "</table>\n",
       "</div>"
      ],
      "text/plain": [
       "   Quarter        Sales Quarters Year  Q1  Q2  Q3  Q4  \\\n",
       "0    Q1_86  1734.827000       Q1   86   1   0   0   0   \n",
       "1    Q2_86  2244.960999       Q2   86   0   1   0   0   \n",
       "2    Q3_86  2533.804993       Q3   86   0   0   1   0   \n",
       "3    Q4_86  2154.962997       Q4   86   0   0   0   1   \n",
       "4    Q1_87  1547.818996       Q1   87   1   0   0   0   \n",
       "5    Q2_87  2104.411995       Q2   87   0   1   0   0   \n",
       "6    Q3_87  2014.362999       Q3   87   0   0   1   0   \n",
       "7    Q4_87  1991.746998       Q4   87   0   0   0   1   \n",
       "8    Q1_88  1869.049999       Q1   88   1   0   0   0   \n",
       "9    Q2_88  2313.631996       Q2   88   0   1   0   0   \n",
       "10   Q3_88  2128.320000       Q3   88   0   0   1   0   \n",
       "11   Q4_88  2026.828999       Q4   88   0   0   0   1   \n",
       "12   Q1_89  1910.603996       Q1   89   1   0   0   0   \n",
       "13   Q2_89  2331.164993       Q2   89   0   1   0   0   \n",
       "14   Q3_89  2206.549995       Q3   89   0   0   1   0   \n",
       "15   Q4_89  2173.967995       Q4   89   0   0   0   1   \n",
       "16   Q1_90  2148.278000       Q1   90   1   0   0   0   \n",
       "17   Q2_90  2739.307999       Q2   90   0   1   0   0   \n",
       "18   Q3_90  2792.753998       Q3   90   0   0   1   0   \n",
       "19   Q4_90  2556.009995       Q4   90   0   0   0   1   \n",
       "20   Q1_91  2480.973999       Q1   91   1   0   0   0   \n",
       "21   Q2_91  3039.522995       Q2   91   0   1   0   0   \n",
       "22   Q3_91  3172.115997       Q3   91   0   0   1   0   \n",
       "23   Q4_91  2879.000999       Q4   91   0   0   0   1   \n",
       "24   Q1_92  2772.000000       Q1   92   1   0   0   0   \n",
       "25   Q2_92  3550.000000       Q2   92   0   1   0   0   \n",
       "26   Q3_92  3508.000000       Q3   92   0   0   1   0   \n",
       "27   Q4_92  3243.859993       Q4   92   0   0   0   1   \n",
       "28   Q1_93  3056.000000       Q1   93   1   0   0   0   \n",
       "29   Q2_93  3899.000000       Q2   93   0   1   0   0   \n",
       "30   Q3_93  3629.000000       Q3   93   0   0   1   0   \n",
       "31   Q4_93  3373.000000       Q4   93   0   0   0   1   \n",
       "32   Q1_94  3352.000000       Q1   94   1   0   0   0   \n",
       "33   Q2_94  4342.000000       Q2   94   0   1   0   0   \n",
       "34   Q3_94  4461.000000       Q3   94   0   0   1   0   \n",
       "35   Q4_94  4017.000000       Q4   94   0   0   0   1   \n",
       "36   Q1_95  3854.000000       Q1   95   1   0   0   0   \n",
       "37   Q2_95  4936.000000       Q2   95   0   1   0   0   \n",
       "38   Q3_95  4895.000000       Q3   95   0   0   1   0   \n",
       "39   Q4_95  4333.000000       Q4   95   0   0   0   1   \n",
       "40   Q1_96  4194.000000       Q1   96   1   0   0   0   \n",
       "41   Q2_96  5253.000000       Q2   96   0   1   0   0   \n",
       "\n",
       "    Seasonal First Difference  \n",
       "0                         NaN  \n",
       "1                         NaN  \n",
       "2                         NaN  \n",
       "3                         NaN  \n",
       "4                 -187.008003  \n",
       "5                 -140.549004  \n",
       "6                 -519.441994  \n",
       "7                 -163.216000  \n",
       "8                  321.231003  \n",
       "9                  209.220001  \n",
       "10                 113.957001  \n",
       "11                  35.082001  \n",
       "12                  41.553997  \n",
       "13                  17.532997  \n",
       "14                  78.229996  \n",
       "15                 147.138996  \n",
       "16                 237.674004  \n",
       "17                 408.143005  \n",
       "18                 586.204002  \n",
       "19                 382.042000  \n",
       "20                 332.695999  \n",
       "21                 300.214996  \n",
       "22                 379.362000  \n",
       "23                 322.991005  \n",
       "24                 291.026001  \n",
       "25                 510.477005  \n",
       "26                 335.884003  \n",
       "27                 364.858994  \n",
       "28                 284.000000  \n",
       "29                 349.000000  \n",
       "30                 121.000000  \n",
       "31                 129.140007  \n",
       "32                 296.000000  \n",
       "33                 443.000000  \n",
       "34                 832.000000  \n",
       "35                 644.000000  \n",
       "36                 502.000000  \n",
       "37                 594.000000  \n",
       "38                 434.000000  \n",
       "39                 316.000000  \n",
       "40                 340.000000  \n",
       "41                 317.000000  "
      ]
     },
     "execution_count": 39,
     "metadata": {},
     "output_type": "execute_result"
    }
   ],
   "source": [
    "coca_df"
   ]
  },
  {
   "cell_type": "code",
   "execution_count": 40,
   "id": "2b40c95e",
   "metadata": {},
   "outputs": [
    {
     "name": "stdout",
     "output_type": "stream",
     "text": [
      "ADF Test Statistic : -2.6101117490935724\n",
      "p-value : 0.09092533196680103\n",
      "#Lags Used : 0\n",
      "Number of Observations Used : 37\n",
      "weak evidence against null hypothesis, time series has a unit root, indicating it is non-stationary \n"
     ]
    }
   ],
   "source": [
    "## Again test dickey fuller test\n",
    "adfuller_test(coca_df['Seasonal First Difference'].dropna())"
   ]
  },
  {
   "cell_type": "code",
   "execution_count": 41,
   "id": "ff70d328",
   "metadata": {},
   "outputs": [
    {
     "data": {
      "text/plain": [
       "<AxesSubplot:>"
      ]
     },
     "execution_count": 41,
     "metadata": {},
     "output_type": "execute_result"
    },
    {
     "data": {
      "image/png": "[encoded data removed]",
      "text/plain": [
       "<Figure size 432x288 with 1 Axes>"
      ]
     },
     "metadata": {
      "needs_background": "light"
     },
     "output_type": "display_data"
    }
   ],
   "source": [
    "coca_df['Seasonal First Difference'].plot()"
   ]
  },
  {
   "cell_type": "code",
   "execution_count": 42,
   "id": "55c98a77",
   "metadata": {},
   "outputs": [],
   "source": [
    "import statsmodels.api as sm"
   ]
  },
  {
   "cell_type": "code",
   "execution_count": 43,
   "id": "6940b1a9",
   "metadata": {},
   "outputs": [
    {
     "name": "stderr",
     "output_type": "stream",
     "text": [
      "C:\\ProgramData\\Anaconda3\\lib\\site-packages\\statsmodels\\graphics\\tsaplots.py:348: FutureWarning: The default method 'yw' can produce PACF values outside of the [-1,1] interval. After 0.13, the default will change tounadjusted Yule-Walker ('ywm'). You can use this method now by setting method='ywm'.\n",
      "  warnings.warn(\n"
     ]
    },
    {
     "data": {
      "image/png": "[encoded data removed]",
      "text/plain": [
       "<Figure size 864x576 with 2 Axes>"
      ]
     },
     "metadata": {
      "needs_background": "light"
     },
     "output_type": "display_data"
    }
   ],
   "source": [
    "fig = plt.figure(figsize=(12,8))\n",
    "ax1 = fig.add_subplot(211)\n",
    "fig = sm.graphics.tsa.plot_acf(coca_df['Seasonal First Difference'].iloc[5:],lags=15,ax=ax1)\n",
    "ax2 = fig.add_subplot(212)\n",
    "fig = sm.graphics.tsa.plot_pacf(coca_df['Seasonal First Difference'].iloc[5:],lags=15,ax=ax2)"
   ]
  },
  {
   "cell_type": "code",
   "execution_count": 44,
   "id": "8d319f6b",
   "metadata": {},
   "outputs": [],
   "source": [
    "model=sm.tsa.statespace.SARIMAX(coca_df['Sales'],order=(1, 1, 1),seasonal_order=(1,1,1,4))\n",
    "results=model.fit()"
   ]
  },
  {
   "cell_type": "code",
   "execution_count": 45,
   "id": "19927b26",
   "metadata": {},
   "outputs": [
    {
     "data": {
      "text/plain": [
       "<AxesSubplot:>"
      ]
     },
     "execution_count": 45,
     "metadata": {},
     "output_type": "execute_result"
    },
    {
     "data": {
      "image/png": "[encoded data removed]",
      "text/plain": [
       "<Figure size 1080x576 with 1 Axes>"
      ]
     },
     "metadata": {
      "needs_background": "light"
     },
     "output_type": "display_data"
    }
   ],
   "source": [
    "coca_df['forecast']=results.predict(start=30,end=40,dynamic=True)\n",
    "coca_df[['Sales','forecast']].plot(figsize=(15,8))"
   ]
  },
  {
   "cell_type": "code",
   "execution_count": 46,
   "id": "2ff7bcac",
   "metadata": {},
   "outputs": [],
   "source": [
    "#So using SARIMA ,forecasted values are closer to actual value"
   ]
  },
  {
   "cell_type": "code",
   "execution_count": null,
   "id": "d949a3f8",
   "metadata": {},
   "outputs": [],
   "source": []
  },
  {
   "cell_type": "code",
   "execution_count": null,
   "id": "a436cf8a",
   "metadata": {},
   "outputs": [],
   "source": []
  },
  {
   "cell_type": "code",
   "execution_count": null,
   "id": "94be3686",
   "metadata": {},
   "outputs": [],
   "source": []
  }
 ],
 "metadata": {
  "kernelspec": {
   "display_name": "Python 3 (ipykernel)",
   "language": "python",
   "name": "python3"
  },
  "language_info": {
   "codemirror_mode": {
    "name": "ipython",
    "version": 3
   },
   "file_extension": ".py",
   "mimetype": "text/x-python",
   "name": "python",
   "nbconvert_exporter": "python",
   "pygments_lexer": "ipython3",
   "version": "3.9.12"
  }
 },
 "nbformat": 4,
 "nbformat_minor": 5
}
